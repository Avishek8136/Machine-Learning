{
  "nbformat": 4,
  "nbformat_minor": 0,
  "metadata": {
    "colab": {
      "provenance": []
    },
    "kernelspec": {
      "name": "python3",
      "display_name": "Python 3"
    },
    "language_info": {
      "name": "python"
    }
  },
  "cells": [
    {
      "cell_type": "markdown",
      "source": [
        "Vector\n"
      ],
      "metadata": {
        "id": "7kk8rW3JSYeS"
      }
    },
    {
      "cell_type": "code",
      "execution_count": null,
      "metadata": {
        "colab": {
          "base_uri": "https://localhost:8080/",
          "height": 281
        },
        "id": "kSmGWZr8SOsb",
        "outputId": "e7c3a2cf-2240-4df5-f17f-a8d9d79ce186"
      },
      "outputs": [
        {
          "output_type": "display_data",
          "data": {
            "text/plain": [
              "<Figure size 432x288 with 1 Axes>"
            ],
            "image/png": "[encoded data removed]"
          },
          "metadata": {
            "needs_background": "light"
          }
        }
      ],
      "source": [
        "import numpy as np\n",
        "%matplotlib inline \n",
        "import math\n",
        "import matplotlib.pyplot as plt\n",
        "\n",
        "from urllib.request import urlretrieve\n",
        "URL= 'https://go.gwu.edu/engcomp4plot' \n",
        "urlretrieve(URL, 'plot_helper.py') \n",
        "import sys \n",
        "sys.path.append('../scripts/')\n",
        "\n",
        "# Our helper, with the functions:\n",
        "# plot_vector, plot_linear_transformation, plot_linear_transformations \n",
        "\n",
        "\n",
        "\n",
        "# Vector Examples\n",
        "yellow= np.array([ .5, .5])\n",
        "red= np.array([.2, .1])\n",
        "blue= np.array([.1, .3])\n",
        "\n",
        "plt.arrow(0, 0, yellow[0], yellow[1], head_width= .02, head_length= 0.01, color= 'y') \n",
        "plt.arrow(0, 0, red[0], red[1], head_width=.02, head_length=0.01, color= 'r') \n",
        "plt.arrow(0, 0, blue[0], blue[1],\thead_width=.02, head_length=0.01, color= 'b') \n",
        "plt.title('Vector Examples')\n",
        "plt.show()"
      ]
    },
    {
      "cell_type": "code",
      "source": [
        "v = np.array([1,2,3])\n",
        "print(\"v=\",v)\n",
        "print(\"Length of vis\", len(v)) \n",
        "z = np.array((1,2,3))\n",
        "print(\"z=\",z)"
      ],
      "metadata": {
        "colab": {
          "base_uri": "https://localhost:8080/"
        },
        "id": "hEMww2rkS3Gf",
        "outputId": "cfe8acdc-af31-4666-8840-07ea9c5b751e"
      },
      "execution_count": null,
      "outputs": [
        {
          "output_type": "stream",
          "name": "stdout",
          "text": [
            "v= [1 2 3]\n",
            "Length of vis 3\n",
            "z= [1 2 3]\n"
          ]
        }
      ]
    },
    {
      "cell_type": "code",
      "source": [
        "w\t=np.array([[1],\t[2],[3]])\n",
        "print(\"w=\",w)\n",
        "print(\"vector size=\",w.shape)"
      ],
      "metadata": {
        "colab": {
          "base_uri": "https://localhost:8080/"
        },
        "id": "k1i2raiAS-O3",
        "outputId": "f29d79f7-99fb-4fba-8596-4a686a6cb77a"
      },
      "execution_count": null,
      "outputs": [
        {
          "output_type": "stream",
          "name": "stdout",
          "text": [
            "w= [[1]\n",
            " [2]\n",
            " [3]]\n",
            "vector size= (3, 1)\n"
          ]
        }
      ]
    },
    {
      "cell_type": "markdown",
      "source": [
        "Transpose"
      ],
      "metadata": {
        "id": "TnDFprCGSXXm"
      }
    },
    {
      "cell_type": "code",
      "source": [
        "\n",
        "print(w.T)\n",
        "\n",
        "\n",
        "# obtaining a particular entry \n",
        "c = np.array([1,2,3])\n",
        "print (c[0])\n"
      ],
      "metadata": {
        "colab": {
          "base_uri": "https://localhost:8080/"
        },
        "id": "BnvwoSaxTSFO",
        "outputId": "e095d378-cb98-46b0-d9b4-9f506c547a92"
      },
      "execution_count": null,
      "outputs": [
        {
          "output_type": "stream",
          "name": "stdout",
          "text": [
            "[[1 2 3]]\n",
            "1\n"
          ]
        }
      ]
    },
    {
      "cell_type": "markdown",
      "source": [
        "All zeros\n"
      ],
      "metadata": {
        "id": "L0deo_xfTy0q"
      }
    },
    {
      "cell_type": "code",
      "source": [
        "a=np.zeros([1,2,3])\n",
        "print(\"a=\",a)"
      ],
      "metadata": {
        "colab": {
          "base_uri": "https://localhost:8080/"
        },
        "id": "yR80rh_TT1jW",
        "outputId": "a3e2c6e4-51bb-4453-c7b4-8b7d821ab093"
      },
      "execution_count": null,
      "outputs": [
        {
          "output_type": "stream",
          "name": "stdout",
          "text": [
            "a= [[[0. 0. 0.]\n",
            "  [0. 0. 0.]]]\n"
          ]
        }
      ]
    },
    {
      "cell_type": "markdown",
      "source": [
        "All ones"
      ],
      "metadata": {
        "id": "ZnEI8Le8UATU"
      }
    },
    {
      "cell_type": "code",
      "source": [
        "b=np.ones([1,2,3])\n",
        "print(\"b=\",b)"
      ],
      "metadata": {
        "colab": {
          "base_uri": "https://localhost:8080/"
        },
        "id": "_0B29xZRUBzT",
        "outputId": "b0852d51-e014-49f7-8d2a-969d09bf9bb4"
      },
      "execution_count": null,
      "outputs": [
        {
          "output_type": "stream",
          "name": "stdout",
          "text": [
            "b= [[[1. 1. 1.]\n",
            "  [1. 1. 1.]]]\n"
          ]
        }
      ]
    },
    {
      "cell_type": "markdown",
      "source": [
        "Constant array"
      ],
      "metadata": {
        "id": "ZPd99-VEUMRm"
      }
    },
    {
      "cell_type": "code",
      "source": [
        "print(np.full([2,3],5))"
      ],
      "metadata": {
        "colab": {
          "base_uri": "https://localhost:8080/"
        },
        "id": "FDfA-hHLUPRN",
        "outputId": "031f025f-3f92-4901-bc4e-59637d070a6b"
      },
      "execution_count": null,
      "outputs": [
        {
          "output_type": "stream",
          "name": "stdout",
          "text": [
            "[[5 5 5]\n",
            " [5 5 5]]\n"
          ]
        }
      ]
    },
    {
      "cell_type": "markdown",
      "source": [
        "Random array"
      ],
      "metadata": {
        "id": "F_P-_fNQUYWW"
      }
    },
    {
      "cell_type": "code",
      "source": [
        "print(np.random.random([2,2]))"
      ],
      "metadata": {
        "colab": {
          "base_uri": "https://localhost:8080/"
        },
        "id": "bRBiF2huUbZe",
        "outputId": "8fe80456-f6c5-4571-a21a-d6761882a72a"
      },
      "execution_count": null,
      "outputs": [
        {
          "output_type": "stream",
          "name": "stdout",
          "text": [
            "[[0.74570002 0.82044782]\n",
            " [0.74696751 0.15012556]]\n"
          ]
        }
      ]
    },
    {
      "cell_type": "markdown",
      "source": [
        "Addition and subtraction of vectors\n"
      ],
      "metadata": {
        "id": "-CdZK9yZUn8c"
      }
    },
    {
      "cell_type": "code",
      "source": [
        "print(\"a-\",a)\n",
        "print(\"b\",b)\n",
        "print(\"=\",a-b)\n",
        "print(\"a+b\",a+b)"
      ],
      "metadata": {
        "colab": {
          "base_uri": "https://localhost:8080/"
        },
        "id": "bz4TSYhIUs6E",
        "outputId": "50aae5c1-c1bc-4690-aa5c-1a29c04ffbae"
      },
      "execution_count": null,
      "outputs": [
        {
          "output_type": "stream",
          "name": "stdout",
          "text": [
            "a- [[[0. 0. 0.]\n",
            "  [0. 0. 0.]]]\n",
            "b [[[1. 1. 1.]\n",
            "  [1. 1. 1.]]]\n",
            "= [[[-1. -1. -1.]\n",
            "  [-1. -1. -1.]]]\n",
            "a+b [[[1. 1. 1.]\n",
            "  [1. 1. 1.]]]\n"
          ]
        }
      ]
    },
    {
      "cell_type": "markdown",
      "source": [
        "Visualization of Vector Addition and Scalar Multiplication"
      ],
      "metadata": {
        "id": "2_pZb8wAVKjY"
      }
    },
    {
      "cell_type": "code",
      "source": [
        "import matplotlib.pyplot as plt\n",
        "from plot_helper import*\n",
        "a=\tnp.array([2,1]) \n",
        "b = np.array([1,3])\n",
        "origin= np.array((0,0))\n",
        "vectors= [a, b, a+b]\n",
        "tails\t= [origin, origin, origin] \n",
        "plot_vector(vectors, tails)\n",
        "pyplot.title(\"Adding vectors with coordinates $[2, 1]$ and $[1,3]$.\\n\");\n"
      ],
      "metadata": {
        "colab": {
          "base_uri": "https://localhost:8080/",
          "height": 406
        },
        "id": "betPu-d6VdhN",
        "outputId": "72197f58-2537-45cc-d13b-d7819ad4a2a3"
      },
      "execution_count": null,
      "outputs": [
        {
          "output_type": "display_data",
          "data": {
            "text/plain": [
              "<Figure size 400x400 with 1 Axes>"
            ],
            "image/png": "[encoded data removed]"
          },
          "metadata": {
            "needs_background": "light"
          }
        }
      ]
    },
    {
      "cell_type": "markdown",
      "source": [
        "Scalar Multiplication"
      ],
      "metadata": {
        "id": "Qha9Ok_oZYqb"
      }
    },
    {
      "cell_type": "code",
      "source": [
        "c = numpy.array([2,1]) \n",
        "vectors= [c, 2*c] \n",
        "plot_vector(vectors)\n",
        "pyplot.title(\"Scaling of the vector $[2,1]$ by the scalar $2$.\");\n"
      ],
      "metadata": {
        "colab": {
          "base_uri": "https://localhost:8080/",
          "height": 388
        },
        "id": "QUujaqxXZTHa",
        "outputId": "3b07a807-a3ba-436d-c603-3ec283f7197e"
      },
      "execution_count": null,
      "outputs": [
        {
          "output_type": "display_data",
          "data": {
            "text/plain": [
              "<Figure size 400x400 with 1 Axes>"
            ],
            "image/png": "[encoded data removed]"
          },
          "metadata": {
            "needs_background": "light"
          }
        }
      ]
    },
    {
      "cell_type": "markdown",
      "source": [
        "Dot Product"
      ],
      "metadata": {
        "id": "bJzOthrWZ1yy"
      }
    },
    {
      "cell_type": "code",
      "source": [
        "(a * b).sum()\n",
        "\n"
      ],
      "metadata": {
        "colab": {
          "base_uri": "https://localhost:8080/"
        },
        "id": "8y3KOZtWZsu5",
        "outputId": "bb4b8922-b5d1-4b6d-8627-629e6dd2f72d"
      },
      "execution_count": null,
      "outputs": [
        {
          "output_type": "execute_result",
          "data": {
            "text/plain": [
              "5"
            ]
          },
          "metadata": {},
          "execution_count": 64
        }
      ]
    },
    {
      "cell_type": "markdown",
      "source": [
        "Different ways for dot product"
      ],
      "metadata": {
        "id": "RyQRVqeJaE-S"
      }
    },
    {
      "cell_type": "code",
      "source": [
        "sl = np.dot(a, b) \n",
        "print(\"sl=\",sl) \n",
        "s2 = a.dot(b) \n",
        "print(\"s2=\",s2)"
      ],
      "metadata": {
        "colab": {
          "base_uri": "https://localhost:8080/"
        },
        "id": "umU9QAuMZ4cq",
        "outputId": "cbf8d173-70d2-47e3-8dac-2bd254b27b5a"
      },
      "execution_count": null,
      "outputs": [
        {
          "output_type": "stream",
          "name": "stdout",
          "text": [
            "sl= 5\n",
            "s2= 5\n"
          ]
        }
      ]
    },
    {
      "cell_type": "markdown",
      "source": [
        "Vector Norm"
      ],
      "metadata": {
        "id": "qnp15SlCaWJo"
      }
    },
    {
      "cell_type": "code",
      "source": [
        "x = np.array([1,2,3]) \n",
        "np.sqrt(np.sum(x**2)) # Norm of x"
      ],
      "metadata": {
        "colab": {
          "base_uri": "https://localhost:8080/"
        },
        "id": "C8M24-PMaOKo",
        "outputId": "7ebdb6b4-0b05-4d35-d8c7-18cd25b895ad"
      },
      "execution_count": null,
      "outputs": [
        {
          "output_type": "execute_result",
          "data": {
            "text/plain": [
              "3.7416573867739413"
            ]
          },
          "metadata": {},
          "execution_count": 69
        }
      ]
    },
    {
      "cell_type": "markdown",
      "source": [
        "Computing vector length"
      ],
      "metadata": {
        "id": "fHXbVobEaa0h"
      }
    },
    {
      "cell_type": "code",
      "source": [
        "l=1\n",
        "x = np.array([1,2,3])\n",
        "np.linalg.norm(x)"
      ],
      "metadata": {
        "colab": {
          "base_uri": "https://localhost:8080/"
        },
        "id": "38cekfJWabVR",
        "outputId": "4d8e350c-ce4f-49e2-a082-a697d48274af"
      },
      "execution_count": null,
      "outputs": [
        {
          "output_type": "execute_result",
          "data": {
            "text/plain": [
              "3.7416573867739413"
            ]
          },
          "metadata": {},
          "execution_count": 72
        }
      ]
    },
    {
      "cell_type": "markdown",
      "source": [
        "Linear Combination Vectors"
      ],
      "metadata": {
        "id": "gx1Tqio2apPY"
      }
    },
    {
      "cell_type": "code",
      "source": [
        "from numpy.random import randint \n",
        "a=\tnumpy.array((-2,1))\n",
        "b = numpy.array((l,-3)) \n",
        "vectors=[]\n",
        "for i in range(30):\n",
        "  m = randint(-10,10) \n",
        "  n = randint(-10,10)\n",
        "  vectors.append(m *a + n*b)\n",
        "\n",
        "plot_vector(vectors)\n",
        "pyplot.title(\"Thirty random vectors, created as linear combinations of $\\mathbf{a}$ and $\\mathbf{b}$ \")\n",
        "\n"
      ],
      "metadata": {
        "colab": {
          "base_uri": "https://localhost:8080/",
          "height": 405
        },
        "id": "-RJt46FfatQg",
        "outputId": "2a184427-ca94-451d-9a81-ad76af16ee2e"
      },
      "execution_count": null,
      "outputs": [
        {
          "output_type": "execute_result",
          "data": {
            "text/plain": [
              "Text(0.5, 1.0, 'Thirty random vectors, created as linear combinations of $\\\\mathbf{a}$ and $\\\\mathbf{b}$ ')"
            ]
          },
          "metadata": {},
          "execution_count": 78
        },
        {
          "output_type": "display_data",
          "data": {
            "text/plain": [
              "<Figure size 400x400 with 1 Axes>"
            ],
            "image/png": "[encoded data removed]"
          },
          "metadata": {
            "needs_background": "light"
          }
        }
      ]
    },
    {
      "cell_type": "markdown",
      "source": [
        "Matrices"
      ],
      "metadata": {
        "id": "qS72lnXobMlQ"
      }
    },
    {
      "cell_type": "code",
      "source": [
        "import numpy as np\n",
        "A=\tnp.matrix([[l,2,3],[4,5,6],[7,8,9]])\n",
        "print(A)\n",
        "print(\"The shape of the A matrix is \\n\",A.shape) \n",
        "print(\"Number of rows in A is \\n\",A.shape[0]) \n",
        "print(\"Number of columns in A is \\n\",A.shape[1])"
      ],
      "metadata": {
        "colab": {
          "base_uri": "https://localhost:8080/"
        },
        "id": "nELMkzkla1n1",
        "outputId": "2558d396-11d7-48fd-83a0-78aa18717144"
      },
      "execution_count": null,
      "outputs": [
        {
          "output_type": "stream",
          "name": "stdout",
          "text": [
            "[[1 2 3]\n",
            " [4 5 6]\n",
            " [7 8 9]]\n",
            "The shape of the A matrix is \n",
            " (3, 3)\n",
            "Number of rows in A is \n",
            " 3\n",
            "Number of columns in A is \n",
            " 3\n"
          ]
        }
      ]
    },
    {
      "cell_type": "markdown",
      "source": [
        "Rank of a Matrix\n"
      ],
      "metadata": {
        "id": "4faiirEkb4an"
      }
    },
    {
      "cell_type": "code",
      "source": [
        "my_matrix = np.array([[l, 2, 1], [3, 4, 7], [3, 6, 3]]) \n",
        "print(\"Matrix\")\n",
        "for row in my_matrix: print(row)\n",
        "rank= np.linalg.matrix_rank(my_matrix) \n",
        "print(\"Rank of the given Matrix is : \",rank)"
      ],
      "metadata": {
        "colab": {
          "base_uri": "https://localhost:8080/"
        },
        "id": "81-nriytb72I",
        "outputId": "7afea0a6-ad9f-47cc-ee32-8508c5d90870"
      },
      "execution_count": null,
      "outputs": [
        {
          "output_type": "stream",
          "name": "stdout",
          "text": [
            "Matrix\n",
            "[1 2 1]\n",
            "[3 4 7]\n",
            "[3 6 3]\n",
            "Rank of the given Matrix is :  2\n"
          ]
        }
      ]
    },
    {
      "cell_type": "markdown",
      "source": [
        "Solving Matrices"
      ],
      "metadata": {
        "id": "aTXo7vFscSUo"
      }
    },
    {
      "cell_type": "code",
      "source": [
        "A= np.matrix([[5, 6, 2],\n",
        "[4,\t7,\t19],\n",
        "[0, 3, 12]])\n",
        "b = np.matrix([[-1], [2], [1]])\n",
        "np.linalg.solve(A, b)"
      ],
      "metadata": {
        "colab": {
          "base_uri": "https://localhost:8080/"
        },
        "id": "s1b56bUgcUV-",
        "outputId": "3f11c204-0f18-4dea-d71d-77a0cb049f51"
      },
      "execution_count": null,
      "outputs": [
        {
          "output_type": "execute_result",
          "data": {
            "text/plain": [
              "matrix([[ 0.45736434],\n",
              "        [-0.62790698],\n",
              "        [ 0.24031008]])"
            ]
          },
          "metadata": {},
          "execution_count": 89
        }
      ]
    },
    {
      "cell_type": "markdown",
      "source": [
        "1.\tCreate vectors with dimensions 2, 3 and 4. Name it as u, v and w, respectively.\n",
        "\n"
      ],
      "metadata": {
        "id": "47fQ7WAccwlH"
      }
    },
    {
      "cell_type": "code",
      "source": [
        "u= np.array([2,3])\n",
        "v = np.array([2,3,4])\n",
        "w = np.array([2,3,3,7])\n",
        "print(u,v,w)"
      ],
      "metadata": {
        "colab": {
          "base_uri": "https://localhost:8080/"
        },
        "id": "2WBK9UOWczMW",
        "outputId": "3cb1805c-2444-4896-c2bc-94ef64d81321"
      },
      "execution_count": null,
      "outputs": [
        {
          "output_type": "stream",
          "name": "stdout",
          "text": [
            "[2 3] [2 3 4] [2 3 3 7]\n"
          ]
        }
      ]
    },
    {
      "cell_type": "markdown",
      "source": [
        "2.\tCreate two 4-dimensional vectors u, v. Find 2u+ 3v."
      ],
      "metadata": {
        "id": "ZGZl1L5_d66q"
      }
    },
    {
      "cell_type": "code",
      "source": [
        "u = np.array([2,3,5,4])\n",
        "v = np.array([2,3,4,8])\n",
        "print(2*u+3*v)"
      ],
      "metadata": {
        "colab": {
          "base_uri": "https://localhost:8080/"
        },
        "id": "dSAM8apMd9E-",
        "outputId": "989c737e-60fc-410f-bc39-911e1783050c"
      },
      "execution_count": null,
      "outputs": [
        {
          "output_type": "stream",
          "name": "stdout",
          "text": [
            "[10 15 22 32]\n"
          ]
        }
      ]
    },
    {
      "cell_type": "markdown",
      "source": [
        "3.\tCreate the following vector c. Compute the scalar multiplication 2c. Print the second component of the new vector. \n",
        "\n",
        "c=(1 2 3)"
      ],
      "metadata": {
        "id": "io83h5xPeKie"
      }
    },
    {
      "cell_type": "code",
      "source": [
        "import numpy as np\n",
        "c= np.array([1,2,3])\n",
        "vectors=[c,c*2]\n",
        "print(vectors)"
      ],
      "metadata": {
        "id": "lFWsQYBneLLm",
        "colab": {
          "base_uri": "https://localhost:8080/"
        },
        "outputId": "e383b55b-8321-413c-fe70-dcf276318f72"
      },
      "execution_count": null,
      "outputs": [
        {
          "output_type": "stream",
          "name": "stdout",
          "text": [
            "[array([1, 2, 3]), array([2, 4, 6])]\n"
          ]
        }
      ]
    },
    {
      "cell_type": "markdown",
      "source": [
        "4.\tNormalize the above vector c. Print the normalized vector"
      ],
      "metadata": {
        "id": "EbSQPoik-wIc"
      }
    },
    {
      "cell_type": "code",
      "source": [
        "print(np.linalg.norm(c))"
      ],
      "metadata": {
        "colab": {
          "base_uri": "https://localhost:8080/"
        },
        "id": "gvZm9lis_IZC",
        "outputId": "54027441-59ad-4158-9a64-76bee0909a2c"
      },
      "execution_count": null,
      "outputs": [
        {
          "output_type": "stream",
          "name": "stdout",
          "text": [
            "3.7416573867739413\n"
          ]
        }
      ]
    },
    {
      "cell_type": "markdown",
      "source": [
        "5.\tCreate the following matrix. Print A, size of the matrix A.\n",
        "\n",
        "A=(5 6  2)\n",
        " (4 7 19)\n",
        "  (0 3 12)"
      ],
      "metadata": {
        "id": "vwKil0ik_aXu"
      }
    },
    {
      "cell_type": "code",
      "source": [
        "A =np.array([[5,6,2],[4,7,19],[0,3,12]])\n",
        "print(\"A=\",A)\n",
        "print(\"The size of A is \", A.shape )"
      ],
      "metadata": {
        "colab": {
          "base_uri": "https://localhost:8080/"
        },
        "id": "Pcud_Y0Y_kq2",
        "outputId": "56fec073-e331-4099-f2f9-0910897dc0a6"
      },
      "execution_count": null,
      "outputs": [
        {
          "output_type": "stream",
          "name": "stdout",
          "text": [
            "A= [[ 5  6  2]\n",
            " [ 4  7 19]\n",
            " [ 0  3 12]]\n",
            "The size of A is  (3, 3)\n"
          ]
        }
      ]
    },
    {
      "cell_type": "markdown",
      "source": [
        "6.\tCompute the matrix-vector product Av using following vector and matrix A in Q:3.\n",
        "\n",
        "v=(-1 2 1)"
      ],
      "metadata": {
        "id": "VOZRk_duAWEn"
      }
    },
    {
      "cell_type": "code",
      "source": [
        "A=np.matrix([[5,4,0],[6,7,3],[2,19,12]])\n",
        "v=np.array([[-1],[2],[1]])\n",
        "print(A*v)"
      ],
      "metadata": {
        "colab": {
          "base_uri": "https://localhost:8080/"
        },
        "id": "tPe0pTqTAVpa",
        "outputId": "414dacd5-8da3-4e0d-e2aa-bbd4f47ed281"
      },
      "execution_count": null,
      "outputs": [
        {
          "output_type": "stream",
          "name": "stdout",
          "text": [
            "[[ 3]\n",
            " [11]\n",
            " [48]]\n"
          ]
        }
      ]
    },
    {
      "cell_type": "markdown",
      "source": [
        "7. Solve for x in x = 2u - (v + 3w) \n",
        "\n",
        "![Screenshot 2022-12-08 144652.png](data:image/png;base64,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)"
      ],
      "metadata": {
        "id": "ONnrrR1gB7Rg"
      }
    },
    {
      "cell_type": "code",
      "source": [
        "u=np.array([2 ,1 , 5,0])\n",
        "v=np.array([4,-3,1,-1])\n",
        "w=np.array([-6,2,0,3])\n",
        "print(2*u-(v+3*w))"
      ],
      "metadata": {
        "colab": {
          "base_uri": "https://localhost:8080/"
        },
        "id": "DeA7wPaFCIQV",
        "outputId": "b23d2ce3-39b5-468c-e30b-1c4ec99e4b00"
      },
      "execution_count": null,
      "outputs": [
        {
          "output_type": "stream",
          "name": "stdout",
          "text": [
            "[18 -1  9 -8]\n"
          ]
        }
      ]
    },
    {
      "cell_type": "markdown",
      "source": [
        "8. Show that the vectors u,v are orthogonal\n",
        "\n",
        "![Screenshot 2022-12-08 145252.png](data:image/png;base64,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)"
      ],
      "metadata": {
        "id": "dPzErPxWCvV3"
      }
    },
    {
      "cell_type": "code",
      "source": [
        "u=np.array([3,2,-1,4])\n",
        "v=np.array([1,-1,1,0])\n",
        "c=np.dot(u,v)\n",
        "if(c==0):\n",
        "  print(\"u and v are orthogonal\")\n",
        "else:\n",
        "  print(\"u and v are not orthogonal\")"
      ],
      "metadata": {
        "colab": {
          "base_uri": "https://localhost:8080/"
        },
        "id": "4wmrhw-_C98P",
        "outputId": "2e08e3c9-1201-4117-af39-16fc7d153055"
      },
      "execution_count": null,
      "outputs": [
        {
          "output_type": "stream",
          "name": "stdout",
          "text": [
            "u and v are orthogonal\n"
          ]
        }
      ]
    }
  ]
}