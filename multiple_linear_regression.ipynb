{
  "cells": [
    {
      "cell_type": "markdown",
      "metadata": {
        "id": "CazISR8X_HUG"
      },
      "source": [
        "# Multiple Linear Regression"
      ]
    },
    {
      "cell_type": "markdown",
      "metadata": {
        "id": "pOyqYHTk_Q57"
      },
      "source": [
        "## Importing the libraries"
      ]
    },
    {
      "cell_type": "markdown",
      "metadata": {
        "id": "W_iVgkRHvjFr"
      },
      "source": [
        "Aim: Dep upon the #hours studied , #hours slept, IQ, loc   --->predict maks"
      ]
    },
    {
      "cell_type": "code",
      "execution_count": null,
      "metadata": {
        "id": "T_YHJjnD_Tja"
      },
      "outputs": [],
      "source": [
        "import numpy as np\n",
        "import pandas as pd"
      ]
    },
    {
      "cell_type": "markdown",
      "metadata": {
        "id": "cqXQHspHvjFs"
      },
      "source": [
        "Creating the dataset"
      ]
    },
    {
      "cell_type": "markdown",
      "metadata": {
        "id": "ygOiKAiovjFs"
      },
      "source": [
        "y = b0 +b1*x1 +b2*x2 +b3*x3 +b4*x4\n"
      ]
    },
    {
      "cell_type": "code",
      "execution_count": null,
      "metadata": {
        "colab": {
          "base_uri": "https://localhost:8080/",
          "height": 206
        },
        "id": "jvqWi_dUvjFt",
        "outputId": "ce2ba8d8-9609-4f45-d1b0-a1dc27c3d5a1"
      },
      "outputs": [
        {
          "output_type": "execute_result",
          "data": {
            "text/plain": [
              "   Hours_studied  Hours_slept         iQ\n",
              "0      97.706564    67.254066  16.478063\n",
              "1      25.241011    96.146744  28.544135\n",
              "2      65.850913    15.447257  43.074570\n",
              "3      84.802224    45.248848  46.597681\n",
              "4      21.515027    79.955849  67.929109"
            ],
            "text/html": [
              "\n",
              "  <div id=\"df-953b143c-c00b-49cb-997e-2ae048c17263\">\n",
              "    <div class=\"colab-df-container\">\n",
              "      <div>\n",
              "<style scoped>\n",
              "    .dataframe tbody tr th:only-of-type {\n",
              "        vertical-align: middle;\n",
              "    }\n",
              "\n",
              "    .dataframe tbody tr th {\n",
              "        vertical-align: top;\n",
              "    }\n",
              "\n",
              "    .dataframe thead th {\n",
              "        text-align: right;\n",
              "    }\n",
              "</style>\n",
              "<table border=\"1\" class=\"dataframe\">\n",
              "  <thead>\n",
              "    <tr style=\"text-align: right;\">\n",
              "      <th></th>\n",
              "      <th>Hours_studied</th>\n",
              "      <th>Hours_slept</th>\n",
              "      <th>iQ</th>\n",
              "    </tr>\n",
              "  </thead>\n",
              "  <tbody>\n",
              "    <tr>\n",
              "      <th>0</th>\n",
              "      <td>97.706564</td>\n",
              "      <td>67.254066</td>\n",
              "      <td>16.478063</td>\n",
              "    </tr>\n",
              "    <tr>\n",
              "      <th>1</th>\n",
              "      <td>25.241011</td>\n",
              "      <td>96.146744</td>\n",
              "      <td>28.544135</td>\n",
              "    </tr>\n",
              "    <tr>\n",
              "      <th>2</th>\n",
              "      <td>65.850913</td>\n",
              "      <td>15.447257</td>\n",
              "      <td>43.074570</td>\n",
              "    </tr>\n",
              "    <tr>\n",
              "      <th>3</th>\n",
              "      <td>84.802224</td>\n",
              "      <td>45.248848</td>\n",
              "      <td>46.597681</td>\n",
              "    </tr>\n",
              "    <tr>\n",
              "      <th>4</th>\n",
              "      <td>21.515027</td>\n",
              "      <td>79.955849</td>\n",
              "      <td>67.929109</td>\n",
              "    </tr>\n",
              "  </tbody>\n",
              "</table>\n",
              "</div>\n",
              "      <button class=\"colab-df-convert\" onclick=\"convertToInteractive('df-953b143c-c00b-49cb-997e-2ae048c17263')\"\n",
              "              title=\"Convert this dataframe to an interactive table.\"\n",
              "              style=\"display:none;\">\n",
              "        \n",
              "  <svg xmlns=\"http://www.w3.org/2000/svg\" height=\"24px\"viewBox=\"0 0 24 24\"\n",
              "       width=\"24px\">\n",
              "    <path d=\"M0 0h24v24H0V0z\" fill=\"none\"/>\n",
              "    <path d=\"M18.56 5.44l.94 2.06.94-2.06 2.06-.94-2.06-.94-.94-2.06-.94 2.06-2.06.94zm-11 1L8.5 8.5l.94-2.06 2.06-.94-2.06-.94L8.5 2.5l-.94 2.06-2.06.94zm10 10l.94 2.06.94-2.06 2.06-.94-2.06-.94-.94-2.06-.94 2.06-2.06.94z\"/><path d=\"M17.41 7.96l-1.37-1.37c-.4-.4-.92-.59-1.43-.59-.52 0-1.04.2-1.43.59L10.3 9.45l-7.72 7.72c-.78.78-.78 2.05 0 2.83L4 21.41c.39.39.9.59 1.41.59.51 0 1.02-.2 1.41-.59l7.78-7.78 2.81-2.81c.8-.78.8-2.07 0-2.86zM5.41 20L4 18.59l7.72-7.72 1.47 1.35L5.41 20z\"/>\n",
              "  </svg>\n",
              "      </button>\n",
              "      \n",
              "  <style>\n",
              "    .colab-df-container {\n",
              "      display:flex;\n",
              "      flex-wrap:wrap;\n",
              "      gap: 12px;\n",
              "    }\n",
              "\n",
              "    .colab-df-convert {\n",
              "      background-color: #E8F0FE;\n",
              "      border: none;\n",
              "      border-radius: 50%;\n",
              "      cursor: pointer;\n",
              "      display: none;\n",
              "      fill: #1967D2;\n",
              "      height: 32px;\n",
              "      padding: 0 0 0 0;\n",
              "      width: 32px;\n",
              "    }\n",
              "\n",
              "    .colab-df-convert:hover {\n",
              "      background-color: #E2EBFA;\n",
              "      box-shadow: 0px 1px 2px rgba(60, 64, 67, 0.3), 0px 1px 3px 1px rgba(60, 64, 67, 0.15);\n",
              "      fill: #174EA6;\n",
              "    }\n",
              "\n",
              "    [theme=dark] .colab-df-convert {\n",
              "      background-color: #3B4455;\n",
              "      fill: #D2E3FC;\n",
              "    }\n",
              "\n",
              "    [theme=dark] .colab-df-convert:hover {\n",
              "      background-color: #434B5C;\n",
              "      box-shadow: 0px 1px 3px 1px rgba(0, 0, 0, 0.15);\n",
              "      filter: drop-shadow(0px 1px 2px rgba(0, 0, 0, 0.3));\n",
              "      fill: #FFFFFF;\n",
              "    }\n",
              "  </style>\n",
              "\n",
              "      <script>\n",
              "        const buttonEl =\n",
              "          document.querySelector('#df-953b143c-c00b-49cb-997e-2ae048c17263 button.colab-df-convert');\n",
              "        buttonEl.style.display =\n",
              "          google.colab.kernel.accessAllowed ? 'block' : 'none';\n",
              "\n",
              "        async function convertToInteractive(key) {\n",
              "          const element = document.querySelector('#df-953b143c-c00b-49cb-997e-2ae048c17263');\n",
              "          const dataTable =\n",
              "            await google.colab.kernel.invokeFunction('convertToInteractive',\n",
              "                                                     [key], {});\n",
              "          if (!dataTable) return;\n",
              "\n",
              "          const docLinkHtml = 'Like what you see? Visit the ' +\n",
              "            '<a target=\"_blank\" href=https://colab.research.google.com/notebooks/data_table.ipynb>data table notebook</a>'\n",
              "            + ' to learn more about interactive tables.';\n",
              "          element.innerHTML = '';\n",
              "          dataTable['output_type'] = 'display_data';\n",
              "          await google.colab.output.renderOutput(dataTable, element);\n",
              "          const docLink = document.createElement('div');\n",
              "          docLink.innerHTML = docLinkHtml;\n",
              "          element.appendChild(docLink);\n",
              "        }\n",
              "      </script>\n",
              "    </div>\n",
              "  </div>\n",
              "  "
            ]
          },
          "metadata": {},
          "execution_count": 2
        }
      ],
      "source": [
        "from numpy.random import rand\n",
        "\n",
        "df  = pd.DataFrame(rand( 100 , 3)*100, columns = 'Hours_studied Hours_slept iQ '.split())\n",
        "df.head()"
      ]
    },
    {
      "cell_type": "code",
      "execution_count": null,
      "metadata": {
        "colab": {
          "base_uri": "https://localhost:8080/",
          "height": 206
        },
        "id": "yn_3EssIvjFt",
        "outputId": "b7f89f0b-7404-4a94-b713-f8becb94699a"
      },
      "outputs": [
        {
          "output_type": "execute_result",
          "data": {
            "text/plain": [
              "   Hours_studied  Hours_slept         iQ   Location\n",
              "0      97.706564    67.254066  16.478063  New Delhi\n",
              "1      25.241011    96.146744  28.544135  New Delhi\n",
              "2      65.850913    15.447257  43.074570     Kollam\n",
              "3      84.802224    45.248848  46.597681     Kollam\n",
              "4      21.515027    79.955849  67.929109  Bangalore"
            ],
            "text/html": [
              "\n",
              "  <div id=\"df-5a2b536c-79ba-4f49-9f19-7806dc18c313\">\n",
              "    <div class=\"colab-df-container\">\n",
              "      <div>\n",
              "<style scoped>\n",
              "    .dataframe tbody tr th:only-of-type {\n",
              "        vertical-align: middle;\n",
              "    }\n",
              "\n",
              "    .dataframe tbody tr th {\n",
              "        vertical-align: top;\n",
              "    }\n",
              "\n",
              "    .dataframe thead th {\n",
              "        text-align: right;\n",
              "    }\n",
              "</style>\n",
              "<table border=\"1\" class=\"dataframe\">\n",
              "  <thead>\n",
              "    <tr style=\"text-align: right;\">\n",
              "      <th></th>\n",
              "      <th>Hours_studied</th>\n",
              "      <th>Hours_slept</th>\n",
              "      <th>iQ</th>\n",
              "      <th>Location</th>\n",
              "    </tr>\n",
              "  </thead>\n",
              "  <tbody>\n",
              "    <tr>\n",
              "      <th>0</th>\n",
              "      <td>97.706564</td>\n",
              "      <td>67.254066</td>\n",
              "      <td>16.478063</td>\n",
              "      <td>New Delhi</td>\n",
              "    </tr>\n",
              "    <tr>\n",
              "      <th>1</th>\n",
              "      <td>25.241011</td>\n",
              "      <td>96.146744</td>\n",
              "      <td>28.544135</td>\n",
              "      <td>New Delhi</td>\n",
              "    </tr>\n",
              "    <tr>\n",
              "      <th>2</th>\n",
              "      <td>65.850913</td>\n",
              "      <td>15.447257</td>\n",
              "      <td>43.074570</td>\n",
              "      <td>Kollam</td>\n",
              "    </tr>\n",
              "    <tr>\n",
              "      <th>3</th>\n",
              "      <td>84.802224</td>\n",
              "      <td>45.248848</td>\n",
              "      <td>46.597681</td>\n",
              "      <td>Kollam</td>\n",
              "    </tr>\n",
              "    <tr>\n",
              "      <th>4</th>\n",
              "      <td>21.515027</td>\n",
              "      <td>79.955849</td>\n",
              "      <td>67.929109</td>\n",
              "      <td>Bangalore</td>\n",
              "    </tr>\n",
              "  </tbody>\n",
              "</table>\n",
              "</div>\n",
              "      <button class=\"colab-df-convert\" onclick=\"convertToInteractive('df-5a2b536c-79ba-4f49-9f19-7806dc18c313')\"\n",
              "              title=\"Convert this dataframe to an interactive table.\"\n",
              "              style=\"display:none;\">\n",
              "        \n",
              "  <svg xmlns=\"http://www.w3.org/2000/svg\" height=\"24px\"viewBox=\"0 0 24 24\"\n",
              "       width=\"24px\">\n",
              "    <path d=\"M0 0h24v24H0V0z\" fill=\"none\"/>\n",
              "    <path d=\"M18.56 5.44l.94 2.06.94-2.06 2.06-.94-2.06-.94-.94-2.06-.94 2.06-2.06.94zm-11 1L8.5 8.5l.94-2.06 2.06-.94-2.06-.94L8.5 2.5l-.94 2.06-2.06.94zm10 10l.94 2.06.94-2.06 2.06-.94-2.06-.94-.94-2.06-.94 2.06-2.06.94z\"/><path d=\"M17.41 7.96l-1.37-1.37c-.4-.4-.92-.59-1.43-.59-.52 0-1.04.2-1.43.59L10.3 9.45l-7.72 7.72c-.78.78-.78 2.05 0 2.83L4 21.41c.39.39.9.59 1.41.59.51 0 1.02-.2 1.41-.59l7.78-7.78 2.81-2.81c.8-.78.8-2.07 0-2.86zM5.41 20L4 18.59l7.72-7.72 1.47 1.35L5.41 20z\"/>\n",
              "  </svg>\n",
              "      </button>\n",
              "      \n",
              "  <style>\n",
              "    .colab-df-container {\n",
              "      display:flex;\n",
              "      flex-wrap:wrap;\n",
              "      gap: 12px;\n",
              "    }\n",
              "\n",
              "    .colab-df-convert {\n",
              "      background-color: #E8F0FE;\n",
              "      border: none;\n",
              "      border-radius: 50%;\n",
              "      cursor: pointer;\n",
              "      display: none;\n",
              "      fill: #1967D2;\n",
              "      height: 32px;\n",
              "      padding: 0 0 0 0;\n",
              "      width: 32px;\n",
              "    }\n",
              "\n",
              "    .colab-df-convert:hover {\n",
              "      background-color: #E2EBFA;\n",
              "      box-shadow: 0px 1px 2px rgba(60, 64, 67, 0.3), 0px 1px 3px 1px rgba(60, 64, 67, 0.15);\n",
              "      fill: #174EA6;\n",
              "    }\n",
              "\n",
              "    [theme=dark] .colab-df-convert {\n",
              "      background-color: #3B4455;\n",
              "      fill: #D2E3FC;\n",
              "    }\n",
              "\n",
              "    [theme=dark] .colab-df-convert:hover {\n",
              "      background-color: #434B5C;\n",
              "      box-shadow: 0px 1px 3px 1px rgba(0, 0, 0, 0.15);\n",
              "      filter: drop-shadow(0px 1px 2px rgba(0, 0, 0, 0.3));\n",
              "      fill: #FFFFFF;\n",
              "    }\n",
              "  </style>\n",
              "\n",
              "      <script>\n",
              "        const buttonEl =\n",
              "          document.querySelector('#df-5a2b536c-79ba-4f49-9f19-7806dc18c313 button.colab-df-convert');\n",
              "        buttonEl.style.display =\n",
              "          google.colab.kernel.accessAllowed ? 'block' : 'none';\n",
              "\n",
              "        async function convertToInteractive(key) {\n",
              "          const element = document.querySelector('#df-5a2b536c-79ba-4f49-9f19-7806dc18c313');\n",
              "          const dataTable =\n",
              "            await google.colab.kernel.invokeFunction('convertToInteractive',\n",
              "                                                     [key], {});\n",
              "          if (!dataTable) return;\n",
              "\n",
              "          const docLinkHtml = 'Like what you see? Visit the ' +\n",
              "            '<a target=\"_blank\" href=https://colab.research.google.com/notebooks/data_table.ipynb>data table notebook</a>'\n",
              "            + ' to learn more about interactive tables.';\n",
              "          element.innerHTML = '';\n",
              "          dataTable['output_type'] = 'display_data';\n",
              "          await google.colab.output.renderOutput(dataTable, element);\n",
              "          const docLink = document.createElement('div');\n",
              "          docLink.innerHTML = docLinkHtml;\n",
              "          element.appendChild(docLink);\n",
              "        }\n",
              "      </script>\n",
              "    </div>\n",
              "  </div>\n",
              "  "
            ]
          },
          "metadata": {},
          "execution_count": 3
        }
      ],
      "source": [
        "from random import choice\n",
        "location = []\n",
        "for i in range(100):\n",
        "    location.append(choice([\"New Delhi\" , \"Pune\" , \"Bangalore\", \"Nepal\", \"Kollam\"]))\n",
        "df['Location'] = location\n",
        "df.head()"
      ]
    },
    {
      "cell_type": "code",
      "execution_count": null,
      "metadata": {
        "id": "rlNjUQKpvjFu"
      },
      "outputs": [],
      "source": [
        "df['Marks'] = (1.73 + (3.34*df['Hours_studied'])\n",
        "                    + (2.45*df['Hours_slept'])\n",
        "                    + (1.83*df['iQ']  ))\n",
        "df['Marks'] =  df['Marks'] +np.random.rand(100)*20\n",
        "\n",
        "df.to_csv('Students.csv',index=False)\n"
      ]
    },
    {
      "cell_type": "code",
      "execution_count": null,
      "metadata": {
        "id": "GgCcq5zjvjFu",
        "colab": {
          "base_uri": "https://localhost:8080/",
          "height": 206
        },
        "outputId": "40b4bbe2-4a66-413a-ea5f-5c3ae69e93e1"
      },
      "outputs": [
        {
          "output_type": "execute_result",
          "data": {
            "text/plain": [
              "   Hours_studied  Hours_slept         iQ   Location       Marks\n",
              "0      97.706564    67.254066  16.478063  New Delhi  528.817491\n",
              "1      25.241011    96.146744  28.544135  New Delhi  393.178757\n",
              "2      65.850913    15.447257  43.074570     Kollam  356.888876\n",
              "3      84.802224    45.248848  46.597681     Kollam  498.628960\n",
              "4      21.515027    79.955849  67.929109  Bangalore  403.399366"
            ],
            "text/html": [
              "\n",
              "  <div id=\"df-afd463ad-a69f-41a6-ade0-ee943614d3ec\">\n",
              "    <div class=\"colab-df-container\">\n",
              "      <div>\n",
              "<style scoped>\n",
              "    .dataframe tbody tr th:only-of-type {\n",
              "        vertical-align: middle;\n",
              "    }\n",
              "\n",
              "    .dataframe tbody tr th {\n",
              "        vertical-align: top;\n",
              "    }\n",
              "\n",
              "    .dataframe thead th {\n",
              "        text-align: right;\n",
              "    }\n",
              "</style>\n",
              "<table border=\"1\" class=\"dataframe\">\n",
              "  <thead>\n",
              "    <tr style=\"text-align: right;\">\n",
              "      <th></th>\n",
              "      <th>Hours_studied</th>\n",
              "      <th>Hours_slept</th>\n",
              "      <th>iQ</th>\n",
              "      <th>Location</th>\n",
              "      <th>Marks</th>\n",
              "    </tr>\n",
              "  </thead>\n",
              "  <tbody>\n",
              "    <tr>\n",
              "      <th>0</th>\n",
              "      <td>97.706564</td>\n",
              "      <td>67.254066</td>\n",
              "      <td>16.478063</td>\n",
              "      <td>New Delhi</td>\n",
              "      <td>528.817491</td>\n",
              "    </tr>\n",
              "    <tr>\n",
              "      <th>1</th>\n",
              "      <td>25.241011</td>\n",
              "      <td>96.146744</td>\n",
              "      <td>28.544135</td>\n",
              "      <td>New Delhi</td>\n",
              "      <td>393.178757</td>\n",
              "    </tr>\n",
              "    <tr>\n",
              "      <th>2</th>\n",
              "      <td>65.850913</td>\n",
              "      <td>15.447257</td>\n",
              "      <td>43.074570</td>\n",
              "      <td>Kollam</td>\n",
              "      <td>356.888876</td>\n",
              "    </tr>\n",
              "    <tr>\n",
              "      <th>3</th>\n",
              "      <td>84.802224</td>\n",
              "      <td>45.248848</td>\n",
              "      <td>46.597681</td>\n",
              "      <td>Kollam</td>\n",
              "      <td>498.628960</td>\n",
              "    </tr>\n",
              "    <tr>\n",
              "      <th>4</th>\n",
              "      <td>21.515027</td>\n",
              "      <td>79.955849</td>\n",
              "      <td>67.929109</td>\n",
              "      <td>Bangalore</td>\n",
              "      <td>403.399366</td>\n",
              "    </tr>\n",
              "  </tbody>\n",
              "</table>\n",
              "</div>\n",
              "      <button class=\"colab-df-convert\" onclick=\"convertToInteractive('df-afd463ad-a69f-41a6-ade0-ee943614d3ec')\"\n",
              "              title=\"Convert this dataframe to an interactive table.\"\n",
              "              style=\"display:none;\">\n",
              "        \n",
              "  <svg xmlns=\"http://www.w3.org/2000/svg\" height=\"24px\"viewBox=\"0 0 24 24\"\n",
              "       width=\"24px\">\n",
              "    <path d=\"M0 0h24v24H0V0z\" fill=\"none\"/>\n",
              "    <path d=\"M18.56 5.44l.94 2.06.94-2.06 2.06-.94-2.06-.94-.94-2.06-.94 2.06-2.06.94zm-11 1L8.5 8.5l.94-2.06 2.06-.94-2.06-.94L8.5 2.5l-.94 2.06-2.06.94zm10 10l.94 2.06.94-2.06 2.06-.94-2.06-.94-.94-2.06-.94 2.06-2.06.94z\"/><path d=\"M17.41 7.96l-1.37-1.37c-.4-.4-.92-.59-1.43-.59-.52 0-1.04.2-1.43.59L10.3 9.45l-7.72 7.72c-.78.78-.78 2.05 0 2.83L4 21.41c.39.39.9.59 1.41.59.51 0 1.02-.2 1.41-.59l7.78-7.78 2.81-2.81c.8-.78.8-2.07 0-2.86zM5.41 20L4 18.59l7.72-7.72 1.47 1.35L5.41 20z\"/>\n",
              "  </svg>\n",
              "      </button>\n",
              "      \n",
              "  <style>\n",
              "    .colab-df-container {\n",
              "      display:flex;\n",
              "      flex-wrap:wrap;\n",
              "      gap: 12px;\n",
              "    }\n",
              "\n",
              "    .colab-df-convert {\n",
              "      background-color: #E8F0FE;\n",
              "      border: none;\n",
              "      border-radius: 50%;\n",
              "      cursor: pointer;\n",
              "      display: none;\n",
              "      fill: #1967D2;\n",
              "      height: 32px;\n",
              "      padding: 0 0 0 0;\n",
              "      width: 32px;\n",
              "    }\n",
              "\n",
              "    .colab-df-convert:hover {\n",
              "      background-color: #E2EBFA;\n",
              "      box-shadow: 0px 1px 2px rgba(60, 64, 67, 0.3), 0px 1px 3px 1px rgba(60, 64, 67, 0.15);\n",
              "      fill: #174EA6;\n",
              "    }\n",
              "\n",
              "    [theme=dark] .colab-df-convert {\n",
              "      background-color: #3B4455;\n",
              "      fill: #D2E3FC;\n",
              "    }\n",
              "\n",
              "    [theme=dark] .colab-df-convert:hover {\n",
              "      background-color: #434B5C;\n",
              "      box-shadow: 0px 1px 3px 1px rgba(0, 0, 0, 0.15);\n",
              "      filter: drop-shadow(0px 1px 2px rgba(0, 0, 0, 0.3));\n",
              "      fill: #FFFFFF;\n",
              "    }\n",
              "  </style>\n",
              "\n",
              "      <script>\n",
              "        const buttonEl =\n",
              "          document.querySelector('#df-afd463ad-a69f-41a6-ade0-ee943614d3ec button.colab-df-convert');\n",
              "        buttonEl.style.display =\n",
              "          google.colab.kernel.accessAllowed ? 'block' : 'none';\n",
              "\n",
              "        async function convertToInteractive(key) {\n",
              "          const element = document.querySelector('#df-afd463ad-a69f-41a6-ade0-ee943614d3ec');\n",
              "          const dataTable =\n",
              "            await google.colab.kernel.invokeFunction('convertToInteractive',\n",
              "                                                     [key], {});\n",
              "          if (!dataTable) return;\n",
              "\n",
              "          const docLinkHtml = 'Like what you see? Visit the ' +\n",
              "            '<a target=\"_blank\" href=https://colab.research.google.com/notebooks/data_table.ipynb>data table notebook</a>'\n",
              "            + ' to learn more about interactive tables.';\n",
              "          element.innerHTML = '';\n",
              "          dataTable['output_type'] = 'display_data';\n",
              "          await google.colab.output.renderOutput(dataTable, element);\n",
              "          const docLink = document.createElement('div');\n",
              "          docLink.innerHTML = docLinkHtml;\n",
              "          element.appendChild(docLink);\n",
              "        }\n",
              "      </script>\n",
              "    </div>\n",
              "  </div>\n",
              "  "
            ]
          },
          "metadata": {},
          "execution_count": 5
        }
      ],
      "source": [
        "df.to_csv('Students.csv',index=False)\n",
        "df.head()"
      ]
    },
    {
      "cell_type": "markdown",
      "metadata": {
        "id": "vgC61-ah_WIz"
      },
      "source": [
        "## Importing the dataset"
      ]
    },
    {
      "cell_type": "code",
      "execution_count": null,
      "metadata": {
        "colab": {
          "base_uri": "https://localhost:8080/"
        },
        "id": "UrxyEKGn_ez7",
        "outputId": "187dfb3e-5e59-4919-ea0c-75ba39bb34cd"
      },
      "outputs": [
        {
          "output_type": "stream",
          "name": "stdout",
          "text": [
            "[[97.70656446710014 67.25406584384011 16.478062973217924 'New Delhi']\n",
            " [25.24101064888743 96.146744080806 28.54413501721911 'New Delhi']\n",
            " [65.85091312858026 15.447257031325831 43.074569830205824 'Kollam']\n",
            " [84.80222423945136 45.24884812347278 46.59768098321467 'Kollam']\n",
            " [21.5150267896301 79.95584926220221 67.92910927543723 'Bangalore']\n",
            " [96.10510140601689 47.18006335868399 65.885715219163 'Nepal']\n",
            " [11.333186705244191 53.46093595442982 78.01768430462081 'Pune']\n",
            " [42.68165731149364 65.06069461148863 73.75819324564618 'Kollam']\n",
            " [0.8475054844954366 16.74224358486841 74.48269656966285 'Pune']\n",
            " [90.23386836097087 82.40076784132289 7.518943989986237 'Kollam']\n",
            " [71.19158996135162 54.75920405779585 79.41658224600964 'Pune']\n",
            " [16.564913577515096 44.33011143479328 33.18041636660753 'New Delhi']\n",
            " [35.321536640477404 24.566598274732566 47.99073002423106 'Nepal']\n",
            " [81.91850580878014 42.15365050739525 14.31457647440796 'Kollam']\n",
            " [5.899032710840557 78.68084487330374 29.637648037570163 'Nepal']\n",
            " [66.82125489796059 42.912710130066266 58.1318151295839 'Nepal']\n",
            " [20.12883657578255 20.92198774668911 71.54158129769165 'Bangalore']\n",
            " [39.33440540073344 39.95715266482386 20.88065412546061 'New Delhi']\n",
            " [25.29986459051822 8.962440533206252 48.7263190939014 'Bangalore']\n",
            " [7.915069739391988 51.13120768900726 21.4452527135642 'New Delhi']\n",
            " [51.16790952712257 86.90465849489992 98.64711052223166 'Kollam']\n",
            " [34.453143545232045 27.15236432363212 4.984479285280685 'Pune']\n",
            " [60.650942736612336 27.64556142667679 99.23036768608112 'Bangalore']\n",
            " [26.407279240938053 41.88794913289742 77.9536285449651 'Kollam']\n",
            " [49.26276818123784 97.51783793237507 72.59508849938436 'Nepal']\n",
            " [27.46127066782164 46.90374102864399 62.141724545550005 'Nepal']\n",
            " [91.27514147026352 17.27987506984574 83.3903227156625 'New Delhi']\n",
            " [25.97559769382254 65.34424095485059 10.401668222179872 'Bangalore']\n",
            " [27.828445580564964 45.35165429067023 7.571606110132478 'Pune']\n",
            " [91.50861092519828 70.31598987851436 73.95661237579512 'Kollam']\n",
            " [81.56549165978929 76.04436395679119 55.89871217967164 'New Delhi']\n",
            " [13.157069416561953 24.996398456769075 8.747902422504561 'Pune']\n",
            " [8.022630217065041 46.47499373780046 52.95662272179412 'Pune']\n",
            " [33.73397088595848 71.22615149971944 26.30462352345813 'Kollam']\n",
            " [49.55966623192375 73.07590304437481 18.40607362400609 'Pune']\n",
            " [41.62540021082869 9.266990416154286 28.37081382111444 'Bangalore']\n",
            " [64.58629398504648 1.214273913807573 64.86548678679009 'Nepal']\n",
            " [99.23610765874687 54.65867335531397 35.74444178983885 'Pune']\n",
            " [42.3686349188222 37.609017081802335 26.9721792074347 'Nepal']\n",
            " [12.83693845429208 49.15818167818299 69.5291968537521 'Pune']\n",
            " [43.86099497449878 88.95553615006294 50.574191352500605 'Bangalore']\n",
            " [89.96206680453419 42.37030799993596 1.548444115214831 'Nepal']\n",
            " [65.22660427475655 62.93095440018705 70.4750045755811 'Bangalore']\n",
            " [93.73077254461764 29.70126162800355 24.38234572351076 'Pune']\n",
            " [93.91303990652916 28.970747524015504 29.560908363820737 'New Delhi']\n",
            " [30.910741357408867 30.24923114572769 37.90401473381709 'New Delhi']\n",
            " [89.51796436789172 49.8544026282763 58.60000405744723 'New Delhi']\n",
            " [20.62919031570969 64.83659703918583 84.34771932220406 'New Delhi']\n",
            " [18.391123788660835 97.71488908307704 50.7919857296022 'Bangalore']\n",
            " [68.32718980422622 69.15918940421682 60.76228918896515 'New Delhi']\n",
            " [49.6677129986682 53.58431046998721 92.555753278236 'New Delhi']\n",
            " [80.62860660335801 16.6164268722783 98.64952314062522 'New Delhi']\n",
            " [93.14178193127864 92.11716875795936 80.25279435834189 'Bangalore']\n",
            " [74.27107569407981 29.28842456722891 95.89578313708576 'Kollam']\n",
            " [60.74253236719503 13.820713448486144 77.86134773245922 'Bangalore']\n",
            " [84.01062483855497 62.888960819122175 11.067748129294507 'Nepal']\n",
            " [58.10575711477243 32.57429017230922 18.202779395952128 'Pune']\n",
            " [72.59661371751214 15.095483511359795 83.39374305116209 'Pune']\n",
            " [32.32126403410357 78.15638151677715 97.13199330095726 'Bangalore']\n",
            " [36.98573827667243 49.53560540961854 54.73042773555932 'Nepal']\n",
            " [94.8379555576906 64.74442947545919 79.78173796116023 'Bangalore']\n",
            " [96.40004307796606 33.060612364677155 90.88232885276058 'Pune']\n",
            " [32.91323413488044 76.31863977631157 91.9469413171357 'Nepal']\n",
            " [15.318286227226018 92.4445790792425 18.459893062170877 'Kollam']\n",
            " [83.86874956955525 68.99646863869171 79.99980834018237 'Kollam']\n",
            " [65.09970510927002 43.05770332344538 76.59754542686375 'Bangalore']\n",
            " [26.5351374807145 96.31180265333956 27.229329765815542 'Kollam']\n",
            " [29.959665168463943 20.983246581284565 40.08284320653652 'Bangalore']\n",
            " [10.49693940734483 99.20198130311742 3.6159657060156234 'Pune']\n",
            " [56.36449332518178 73.90146670417573 22.020761084103324 'Kollam']\n",
            " [39.661457336462 12.762961921691518 40.3451349692649 'Pune']\n",
            " [54.777243485020975 75.44963086370117 91.45131803173552 'Pune']\n",
            " [94.98465575162128 83.45724866264462 11.203984118270526 'Bangalore']\n",
            " [94.9305893019122 54.80977533459552 3.84966041090874 'Pune']\n",
            " [5.918722918521036 98.97498563279235 30.67220371900336 'Bangalore']\n",
            " [37.45197310170234 38.33362392995464 49.950472243718 'New Delhi']\n",
            " [17.692679090771 93.16983716730948 9.9129133239496 'New Delhi']\n",
            " [84.2974049505855 98.19851975937364 93.99177271452504 'Kollam']\n",
            " [19.713711131139167 44.86956550448649 56.55723252958297 'Bangalore']\n",
            " [31.68125946512177 85.83393638185946 63.1770679091847 'Kollam']\n",
            " [29.842847014596863 80.20697831640261 69.81222493085784 'Bangalore']\n",
            " [7.88987568038495 91.60356567916313 53.98778224153994 'Pune']\n",
            " [48.0916098428257 32.967173770843694 49.313925214268565 'Pune']\n",
            " [11.091042708978216 62.4961795063972 63.91261740949209 'Kollam']\n",
            " [20.45222601520407 53.30591801776361 65.37688732214542 'Nepal']\n",
            " [10.32573366689702 53.20793954140204 67.89064613184628 'Kollam']\n",
            " [42.24484790291216 90.0054209005694 28.03619436753212 'Nepal']\n",
            " [22.275969835656998 46.92175660707191 76.34004171821374 'Nepal']\n",
            " [37.72045577576924 3.2943039166630883 18.420553061517264 'New Delhi']\n",
            " [1.4880993439590706 17.59799606428225 19.64592784761493 'Pune']\n",
            " [26.814047182497657 32.418003612377355 39.48987282300098 'Pune']\n",
            " [90.6692264082668 68.26630440028745 4.491488300507385 'Pune']\n",
            " [98.25414176496108 34.99597085991213 70.6471109186944 'Kollam']\n",
            " [94.70582203870728 18.046200761766595 71.8610857218551 'Kollam']\n",
            " [24.812904654178467 69.24246991745915 68.87630620639314 'Nepal']\n",
            " [65.13125560881957 38.24041493751514 18.31012844358789 'Nepal']\n",
            " [36.25768329690652 52.61002460167412 22.682493967508787 'Pune']\n",
            " [1.271266732776566 50.27354557299515 72.10539681870188 'Pune']\n",
            " [12.19558652215753 88.22691328255526 68.71344337587647 'Nepal']\n",
            " [68.94065344478695 43.9884393591185 3.2282586980219685 'Pune']]\n"
          ]
        }
      ],
      "source": [
        "dataset = pd.read_csv('Students.csv')\n",
        "\n",
        "X = dataset.iloc[:, :-1].values\n",
        "y = dataset.iloc[:, -1].values\n",
        "print(X)"
      ]
    },
    {
      "cell_type": "code",
      "execution_count": null,
      "metadata": {
        "colab": {
          "base_uri": "https://localhost:8080/"
        },
        "id": "GOB3QhV9B5kD",
        "outputId": "da1786cd-ad99-46c1-a8ae-b3049260cf6c",
        "scrolled": false
      },
      "outputs": [
        {
          "output_type": "stream",
          "name": "stdout",
          "text": [
            "[528.81749104 393.17875736 356.88887584 498.6289599  403.39936642\n",
            " 568.86328843 313.95337215 441.01452588 188.6515597  521.68379237\n",
            " 523.4551481  237.40202286 279.05715913 417.7587907  269.45116668\n",
            " 447.42477983 263.33464588 280.77608377 206.65093263 194.93920699\n",
            " 569.68199499 203.6244984  460.58187408 341.94895074 557.58809534\n",
            " 339.76167731 516.94495329 279.1119822  233.06716295 632.48122884\n",
            " 567.95073379 123.46766066 245.48321052 354.815448   389.19439507\n",
            " 219.98085035 356.05404473 538.2515539  302.35662158 292.47276388\n",
            " 469.68367382 423.50669431 510.81611395 436.75328517 453.73145207\n",
            " 262.40090831 546.90112912 387.15203133 405.06359222 523.58927789\n",
            " 481.09115299 499.8611166  689.12792005 510.50222737 381.1828922\n",
            " 466.18707078 315.58065257 440.32350775 496.15942484 356.53387743\n",
            " 633.17193824 572.23731661 479.10886897 331.12541638 612.11362655\n",
            " 483.49072922 379.0444478  230.1040929  288.71940456 417.28942231\n",
            " 250.24146935 542.66433832 556.35346141 463.91983889 329.45465012\n",
            " 329.40391806 319.27788293 713.81518568 283.32868351 437.7082607\n",
            " 427.14551683 359.30601149 341.4566155  327.98498836 330.54160148\n",
            " 309.99880297 433.19444638 340.33758416 173.14264062 101.13269395\n",
            " 249.40932596 497.60446221 551.6790698  501.36596919 387.61688331\n",
            " 366.13937753 307.71801663 264.91547077 400.85438265 355.92655211]\n"
          ]
        }
      ],
      "source": [
        "print(y)"
      ]
    },
    {
      "cell_type": "markdown",
      "metadata": {
        "id": "VadrvE7s_lS9"
      },
      "source": [
        "## Encoding categorical data"
      ]
    },
    {
      "cell_type": "code",
      "execution_count": null,
      "metadata": {
        "colab": {
          "base_uri": "https://localhost:8080/"
        },
        "id": "wV3fD1mbAvsh",
        "outputId": "49f6c34b-5a94-419f-d5aa-ea3d2f3eb93b"
      },
      "outputs": [
        {
          "output_type": "stream",
          "name": "stdout",
          "text": [
            "ColumnTransformer(remainder='passthrough',\n",
            "                  transformers=[('encoder', OneHotEncoder(), [3])])\n"
          ]
        }
      ],
      "source": [
        "from sklearn.compose import ColumnTransformer\n",
        "from sklearn.preprocessing import OneHotEncoder\n",
        "ct = ColumnTransformer(transformers=[('encoder', OneHotEncoder(), [3])],  remainder='passthrough')\n",
        "print(ct)\n",
        "\n",
        "X = np.array(ct.fit_transform(X))"
      ]
    },
    {
      "cell_type": "code",
      "execution_count": null,
      "metadata": {
        "colab": {
          "base_uri": "https://localhost:8080/"
        },
        "id": "4ym3HdYeCGYG",
        "outputId": "a6ee4647-8888-4584-e4c8-db9be445fda2"
      },
      "outputs": [
        {
          "output_type": "stream",
          "name": "stdout",
          "text": [
            "[[0.0 0.0 0.0 1.0 0.0 97.70656446710014 67.25406584384011\n",
            "  16.478062973217924]\n",
            " [0.0 0.0 0.0 1.0 0.0 25.24101064888743 96.146744080806 28.54413501721911]\n",
            " [0.0 1.0 0.0 0.0 0.0 65.85091312858026 15.447257031325831\n",
            "  43.074569830205824]\n",
            " [0.0 1.0 0.0 0.0 0.0 84.80222423945136 45.24884812347278\n",
            "  46.59768098321467]\n",
            " [1.0 0.0 0.0 0.0 0.0 21.5150267896301 79.95584926220221\n",
            "  67.92910927543723]\n",
            " [0.0 0.0 1.0 0.0 0.0 96.10510140601689 47.18006335868399 65.885715219163]\n",
            " [0.0 0.0 0.0 0.0 1.0 11.333186705244191 53.46093595442982\n",
            "  78.01768430462081]\n",
            " [0.0 1.0 0.0 0.0 0.0 42.68165731149364 65.06069461148863\n",
            "  73.75819324564618]\n",
            " [0.0 0.0 0.0 0.0 1.0 0.8475054844954366 16.74224358486841\n",
            "  74.48269656966285]\n",
            " [0.0 1.0 0.0 0.0 0.0 90.23386836097087 82.40076784132289\n",
            "  7.518943989986237]\n",
            " [0.0 0.0 0.0 0.0 1.0 71.19158996135162 54.75920405779585\n",
            "  79.41658224600964]\n",
            " [0.0 0.0 0.0 1.0 0.0 16.564913577515096 44.33011143479328\n",
            "  33.18041636660753]\n",
            " [0.0 0.0 1.0 0.0 0.0 35.321536640477404 24.566598274732566\n",
            "  47.99073002423106]\n",
            " [0.0 1.0 0.0 0.0 0.0 81.91850580878014 42.15365050739525\n",
            "  14.31457647440796]\n",
            " [0.0 0.0 1.0 0.0 0.0 5.899032710840557 78.68084487330374\n",
            "  29.637648037570163]\n",
            " [0.0 0.0 1.0 0.0 0.0 66.82125489796059 42.912710130066266\n",
            "  58.1318151295839]\n",
            " [1.0 0.0 0.0 0.0 0.0 20.12883657578255 20.92198774668911\n",
            "  71.54158129769165]\n",
            " [0.0 0.0 0.0 1.0 0.0 39.33440540073344 39.95715266482386\n",
            "  20.88065412546061]\n",
            " [1.0 0.0 0.0 0.0 0.0 25.29986459051822 8.962440533206252\n",
            "  48.7263190939014]\n",
            " [0.0 0.0 0.0 1.0 0.0 7.915069739391988 51.13120768900726\n",
            "  21.4452527135642]\n",
            " [0.0 1.0 0.0 0.0 0.0 51.16790952712257 86.90465849489992\n",
            "  98.64711052223166]\n",
            " [0.0 0.0 0.0 0.0 1.0 34.453143545232045 27.15236432363212\n",
            "  4.984479285280685]\n",
            " [1.0 0.0 0.0 0.0 0.0 60.650942736612336 27.64556142667679\n",
            "  99.23036768608112]\n",
            " [0.0 1.0 0.0 0.0 0.0 26.407279240938053 41.88794913289742\n",
            "  77.9536285449651]\n",
            " [0.0 0.0 1.0 0.0 0.0 49.26276818123784 97.51783793237507\n",
            "  72.59508849938436]\n",
            " [0.0 0.0 1.0 0.0 0.0 27.46127066782164 46.90374102864399\n",
            "  62.141724545550005]\n",
            " [0.0 0.0 0.0 1.0 0.0 91.27514147026352 17.27987506984574\n",
            "  83.3903227156625]\n",
            " [1.0 0.0 0.0 0.0 0.0 25.97559769382254 65.34424095485059\n",
            "  10.401668222179872]\n",
            " [0.0 0.0 0.0 0.0 1.0 27.828445580564964 45.35165429067023\n",
            "  7.571606110132478]\n",
            " [0.0 1.0 0.0 0.0 0.0 91.50861092519828 70.31598987851436\n",
            "  73.95661237579512]\n",
            " [0.0 0.0 0.0 1.0 0.0 81.56549165978929 76.04436395679119\n",
            "  55.89871217967164]\n",
            " [0.0 0.0 0.0 0.0 1.0 13.157069416561953 24.996398456769075\n",
            "  8.747902422504561]\n",
            " [0.0 0.0 0.0 0.0 1.0 8.022630217065041 46.47499373780046\n",
            "  52.95662272179412]\n",
            " [0.0 1.0 0.0 0.0 0.0 33.73397088595848 71.22615149971944\n",
            "  26.30462352345813]\n",
            " [0.0 0.0 0.0 0.0 1.0 49.55966623192375 73.07590304437481\n",
            "  18.40607362400609]\n",
            " [1.0 0.0 0.0 0.0 0.0 41.62540021082869 9.266990416154286\n",
            "  28.37081382111444]\n",
            " [0.0 0.0 1.0 0.0 0.0 64.58629398504648 1.214273913807573\n",
            "  64.86548678679009]\n",
            " [0.0 0.0 0.0 0.0 1.0 99.23610765874687 54.65867335531397\n",
            "  35.74444178983885]\n",
            " [0.0 0.0 1.0 0.0 0.0 42.3686349188222 37.609017081802335\n",
            "  26.9721792074347]\n",
            " [0.0 0.0 0.0 0.0 1.0 12.83693845429208 49.15818167818299\n",
            "  69.5291968537521]\n",
            " [1.0 0.0 0.0 0.0 0.0 43.86099497449878 88.95553615006294\n",
            "  50.574191352500605]\n",
            " [0.0 0.0 1.0 0.0 0.0 89.96206680453419 42.37030799993596\n",
            "  1.548444115214831]\n",
            " [1.0 0.0 0.0 0.0 0.0 65.22660427475655 62.93095440018705\n",
            "  70.4750045755811]\n",
            " [0.0 0.0 0.0 0.0 1.0 93.73077254461764 29.70126162800355\n",
            "  24.38234572351076]\n",
            " [0.0 0.0 0.0 1.0 0.0 93.91303990652916 28.970747524015504\n",
            "  29.560908363820737]\n",
            " [0.0 0.0 0.0 1.0 0.0 30.910741357408867 30.24923114572769\n",
            "  37.90401473381709]\n",
            " [0.0 0.0 0.0 1.0 0.0 89.51796436789172 49.8544026282763\n",
            "  58.60000405744723]\n",
            " [0.0 0.0 0.0 1.0 0.0 20.62919031570969 64.83659703918583\n",
            "  84.34771932220406]\n",
            " [1.0 0.0 0.0 0.0 0.0 18.391123788660835 97.71488908307704\n",
            "  50.7919857296022]\n",
            " [0.0 0.0 0.0 1.0 0.0 68.32718980422622 69.15918940421682\n",
            "  60.76228918896515]\n",
            " [0.0 0.0 0.0 1.0 0.0 49.6677129986682 53.58431046998721 92.555753278236]\n",
            " [0.0 0.0 0.0 1.0 0.0 80.62860660335801 16.6164268722783\n",
            "  98.64952314062522]\n",
            " [1.0 0.0 0.0 0.0 0.0 93.14178193127864 92.11716875795936\n",
            "  80.25279435834189]\n",
            " [0.0 1.0 0.0 0.0 0.0 74.27107569407981 29.28842456722891\n",
            "  95.89578313708576]\n",
            " [1.0 0.0 0.0 0.0 0.0 60.74253236719503 13.820713448486144\n",
            "  77.86134773245922]\n",
            " [0.0 0.0 1.0 0.0 0.0 84.01062483855497 62.888960819122175\n",
            "  11.067748129294507]\n",
            " [0.0 0.0 0.0 0.0 1.0 58.10575711477243 32.57429017230922\n",
            "  18.202779395952128]\n",
            " [0.0 0.0 0.0 0.0 1.0 72.59661371751214 15.095483511359795\n",
            "  83.39374305116209]\n",
            " [1.0 0.0 0.0 0.0 0.0 32.32126403410357 78.15638151677715\n",
            "  97.13199330095726]\n",
            " [0.0 0.0 1.0 0.0 0.0 36.98573827667243 49.53560540961854\n",
            "  54.73042773555932]\n",
            " [1.0 0.0 0.0 0.0 0.0 94.8379555576906 64.74442947545919\n",
            "  79.78173796116023]\n",
            " [0.0 0.0 0.0 0.0 1.0 96.40004307796606 33.060612364677155\n",
            "  90.88232885276058]\n",
            " [0.0 0.0 1.0 0.0 0.0 32.91323413488044 76.31863977631157\n",
            "  91.9469413171357]\n",
            " [0.0 1.0 0.0 0.0 0.0 15.318286227226018 92.4445790792425\n",
            "  18.459893062170877]\n",
            " [0.0 1.0 0.0 0.0 0.0 83.86874956955525 68.99646863869171\n",
            "  79.99980834018237]\n",
            " [1.0 0.0 0.0 0.0 0.0 65.09970510927002 43.05770332344538\n",
            "  76.59754542686375]\n",
            " [0.0 1.0 0.0 0.0 0.0 26.5351374807145 96.31180265333956\n",
            "  27.229329765815542]\n",
            " [1.0 0.0 0.0 0.0 0.0 29.959665168463943 20.983246581284565\n",
            "  40.08284320653652]\n",
            " [0.0 0.0 0.0 0.0 1.0 10.49693940734483 99.20198130311742\n",
            "  3.6159657060156234]\n",
            " [0.0 1.0 0.0 0.0 0.0 56.36449332518178 73.90146670417573\n",
            "  22.020761084103324]\n",
            " [0.0 0.0 0.0 0.0 1.0 39.661457336462 12.762961921691518 40.3451349692649]\n",
            " [0.0 0.0 0.0 0.0 1.0 54.777243485020975 75.44963086370117\n",
            "  91.45131803173552]\n",
            " [1.0 0.0 0.0 0.0 0.0 94.98465575162128 83.45724866264462\n",
            "  11.203984118270526]\n",
            " [0.0 0.0 0.0 0.0 1.0 94.9305893019122 54.80977533459552 3.84966041090874]\n",
            " [1.0 0.0 0.0 0.0 0.0 5.918722918521036 98.97498563279235\n",
            "  30.67220371900336]\n",
            " [0.0 0.0 0.0 1.0 0.0 37.45197310170234 38.33362392995464 49.950472243718]\n",
            " [0.0 0.0 0.0 1.0 0.0 17.692679090771 93.16983716730948 9.9129133239496]\n",
            " [0.0 1.0 0.0 0.0 0.0 84.2974049505855 98.19851975937364\n",
            "  93.99177271452504]\n",
            " [1.0 0.0 0.0 0.0 0.0 19.713711131139167 44.86956550448649\n",
            "  56.55723252958297]\n",
            " [0.0 1.0 0.0 0.0 0.0 31.68125946512177 85.83393638185946\n",
            "  63.1770679091847]\n",
            " [1.0 0.0 0.0 0.0 0.0 29.842847014596863 80.20697831640261\n",
            "  69.81222493085784]\n",
            " [0.0 0.0 0.0 0.0 1.0 7.88987568038495 91.60356567916313\n",
            "  53.98778224153994]\n",
            " [0.0 0.0 0.0 0.0 1.0 48.0916098428257 32.967173770843694\n",
            "  49.313925214268565]\n",
            " [0.0 1.0 0.0 0.0 0.0 11.091042708978216 62.4961795063972\n",
            "  63.91261740949209]\n",
            " [0.0 0.0 1.0 0.0 0.0 20.45222601520407 53.30591801776361\n",
            "  65.37688732214542]\n",
            " [0.0 1.0 0.0 0.0 0.0 10.32573366689702 53.20793954140204\n",
            "  67.89064613184628]\n",
            " [0.0 0.0 1.0 0.0 0.0 42.24484790291216 90.0054209005694\n",
            "  28.03619436753212]\n",
            " [0.0 0.0 1.0 0.0 0.0 22.275969835656998 46.92175660707191\n",
            "  76.34004171821374]\n",
            " [0.0 0.0 0.0 1.0 0.0 37.72045577576924 3.2943039166630883\n",
            "  18.420553061517264]\n",
            " [0.0 0.0 0.0 0.0 1.0 1.4880993439590706 17.59799606428225\n",
            "  19.64592784761493]\n",
            " [0.0 0.0 0.0 0.0 1.0 26.814047182497657 32.418003612377355\n",
            "  39.48987282300098]\n",
            " [0.0 0.0 0.0 0.0 1.0 90.6692264082668 68.26630440028745\n",
            "  4.491488300507385]\n",
            " [0.0 1.0 0.0 0.0 0.0 98.25414176496108 34.99597085991213\n",
            "  70.6471109186944]\n",
            " [0.0 1.0 0.0 0.0 0.0 94.70582203870728 18.046200761766595\n",
            "  71.8610857218551]\n",
            " [0.0 0.0 1.0 0.0 0.0 24.812904654178467 69.24246991745915\n",
            "  68.87630620639314]\n",
            " [0.0 0.0 1.0 0.0 0.0 65.13125560881957 38.24041493751514\n",
            "  18.31012844358789]\n",
            " [0.0 0.0 0.0 0.0 1.0 36.25768329690652 52.61002460167412\n",
            "  22.682493967508787]\n",
            " [0.0 0.0 0.0 0.0 1.0 1.271266732776566 50.27354557299515\n",
            "  72.10539681870188]\n",
            " [0.0 0.0 1.0 0.0 0.0 12.19558652215753 88.22691328255526\n",
            "  68.71344337587647]\n",
            " [0.0 0.0 0.0 0.0 1.0 68.94065344478695 43.9884393591185\n",
            "  3.2282586980219685]]\n"
          ]
        }
      ],
      "source": [
        "print(X)"
      ]
    },
    {
      "cell_type": "markdown",
      "metadata": {
        "id": "WemVnqgeA70k"
      },
      "source": [
        "## Splitting the dataset into the Training set and Test set"
      ]
    },
    {
      "cell_type": "code",
      "execution_count": null,
      "metadata": {
        "colab": {
          "base_uri": "https://localhost:8080/"
        },
        "id": "Kb_v_ae-A-20",
        "outputId": "04e9bcdb-22f3-42e8-9792-b61b43623826"
      },
      "outputs": [
        {
          "output_type": "execute_result",
          "data": {
            "text/plain": [
              "array([516.94495329, 433.19444638, 356.88887584, 466.18707078,\n",
              "       329.40391806, 501.36596919, 263.33464588, 463.91983889,\n",
              "       381.1828922 , 366.13937753, 510.50222737, 551.6790698 ,\n",
              "       283.32868351, 417.7587907 , 441.01452588, 567.95073379,\n",
              "       460.58187408, 557.58809534, 354.815448  , 188.6515597 ])"
            ]
          },
          "metadata": {},
          "execution_count": 10
        }
      ],
      "source": [
        "from sklearn.model_selection import train_test_split\n",
        "X_train, X_test, y_train , y_test = train_test_split(X, y, test_size = 0.2, random_state = 0)\n",
        "y_test"
      ]
    },
    {
      "cell_type": "markdown",
      "metadata": {
        "id": "k-McZVsQBINc"
      },
      "source": [
        "## Training the Multiple Linear Regression model on the Training set"
      ]
    },
    {
      "cell_type": "code",
      "execution_count": null,
      "metadata": {
        "colab": {
          "base_uri": "https://localhost:8080/"
        },
        "id": "ywPjx0L1BMiD",
        "outputId": "d59d8e96-e2a3-497f-ba63-c0705deaa1e6"
      },
      "outputs": [
        {
          "output_type": "execute_result",
          "data": {
            "text/plain": [
              "LinearRegression()"
            ]
          },
          "metadata": {},
          "execution_count": 11
        }
      ],
      "source": [
        "from sklearn.linear_model import LinearRegression\n",
        "regressor = LinearRegression()\n",
        "regressor.fit(X_train, y_train)"
      ]
    },
    {
      "cell_type": "markdown",
      "metadata": {
        "id": "xNkXL1YQBiBT"
      },
      "source": [
        "## Predicting the Test set results"
      ]
    },
    {
      "cell_type": "code",
      "execution_count": null,
      "metadata": {
        "colab": {
          "base_uri": "https://localhost:8080/"
        },
        "id": "TQKmwvtdBkyb",
        "outputId": "86b4b2de-277d-4b09-d9d7-2df96156e0be",
        "scrolled": true
      },
      "outputs": [
        {
          "output_type": "stream",
          "name": "stdout",
          "text": [
            "\n",
            "\n",
            "\n",
            "Predicted  Actual\n",
            "[[512.3 516.9]\n",
            " [426.8 433.2]\n",
            " [350.7 356.9]\n",
            " [470.  466.2]\n",
            " [322.3 329.4]\n",
            " [506.2 501.4]\n",
            " [259.9 263.3]\n",
            " [468.9 463.9]\n",
            " [390.4 381.2]\n",
            " [359.4 366.1]\n",
            " [508.6 510.5]\n",
            " [557.4 551.7]\n",
            " [289.9 283.3]\n",
            " [417.8 417.8]\n",
            " [449.8 441. ]\n",
            " [573.6 568. ]\n",
            " [462.7 460.6]\n",
            " [549.5 557.6]\n",
            " [348.8 354.8]\n",
            " [187.9 188.7]]\n"
          ]
        }
      ],
      "source": [
        "y_pred = regressor.predict(X_test)\n",
        "\n",
        "np.set_printoptions(precision=1)\n",
        "print(\"\\n\\n\\nPredicted  Actual\")\n",
        "print(np.concatenate((y_pred.reshape(len(y_pred),1), y_test.reshape(len(y_test),1)),1))"
      ]
    },
    {
      "cell_type": "code",
      "execution_count": null,
      "metadata": {
        "colab": {
          "base_uri": "https://localhost:8080/"
        },
        "id": "xScnb2_avjFw",
        "outputId": "03f348ac-5f7a-4441-cde1-b153507a12b3"
      },
      "outputs": [
        {
          "output_type": "stream",
          "name": "stdout",
          "text": [
            "[[0.0 0.0 0.0 1.0 0.0 91.27514147026352 17.27987506984574\n",
            "  83.3903227156625 512.3330622672199 516.9449532929458]\n",
            " [0.0 0.0 1.0 0.0 0.0 42.24484790291216 90.0054209005694\n",
            "  28.03619436753212 426.7816165463114 433.1944463828499]\n",
            " [0.0 1.0 0.0 0.0 0.0 65.85091312858026 15.447257031325831\n",
            "  43.074569830205824 350.70271398050073 356.88887583825215]\n",
            " [0.0 0.0 1.0 0.0 0.0 84.01062483855497 62.888960819122175\n",
            "  11.067748129294507 470.0105939799032 466.1870707846528]\n",
            " [0.0 0.0 0.0 1.0 0.0 37.45197310170234 38.33362392995464 49.950472243718\n",
            "  322.34862257008785 329.40391806052287]\n",
            " [0.0 1.0 0.0 0.0 0.0 94.70582203870728 18.046200761766595\n",
            "  71.8610857218551 506.20577356858126 501.3659691949212]\n",
            " [1.0 0.0 0.0 0.0 0.0 20.12883657578255 20.92198774668911\n",
            "  71.54158129769165 259.89508564063897 263.33464588219783]\n",
            " [0.0 0.0 0.0 0.0 1.0 94.9305893019122 54.80977533459552 3.84966041090874\n",
            "  468.9310047663744 463.9198388870134]\n",
            " [1.0 0.0 0.0 0.0 0.0 60.74253236719503 13.820713448486144\n",
            "  77.86134773245922 390.43490754164395 381.1828921975124]\n",
            " [0.0 0.0 1.0 0.0 0.0 65.13125560881957 38.24041493751514\n",
            "  18.31012844358789 359.444374448148 366.13937752802224]\n",
            " [0.0 1.0 0.0 0.0 0.0 74.27107569407981 29.28842456722891\n",
            "  95.89578313708576 508.6362557831157 510.5022273654458]\n",
            " [0.0 1.0 0.0 0.0 0.0 98.25414176496108 34.99597085991213\n",
            "  70.6471109186944 557.3735506054053 551.6790698013011]\n",
            " [1.0 0.0 0.0 0.0 0.0 19.713711131139167 44.86956550448649\n",
            "  56.55723252958297 289.8853637022717 283.3286835102231]\n",
            " [0.0 1.0 0.0 0.0 0.0 81.91850580878014 42.15365050739525\n",
            "  14.31457647440796 417.8296980169184 417.75879070492334]\n",
            " [0.0 1.0 0.0 0.0 0.0 42.68165731149364 65.06069461148863\n",
            "  73.75819324564618 449.83774779838313 441.0145258802996]\n",
            " [0.0 0.0 0.0 1.0 0.0 81.56549165978929 76.04436395679119\n",
            "  55.89871217967164 573.5551827325428 567.9507337857297]\n",
            " [1.0 0.0 0.0 0.0 0.0 60.650942736612336 27.64556142667679\n",
            "  99.23036768608112 462.6900179080227 460.58187408240826]\n",
            " [0.0 0.0 1.0 0.0 0.0 49.26276818123784 97.51783793237507\n",
            "  72.59508849938436 549.5431503371292 557.5880953367574]\n",
            " [0.0 1.0 0.0 0.0 0.0 33.73397088595848 71.22615149971944\n",
            "  26.30462352345813 348.7908918344102 354.8154479978336]\n",
            " [0.0 0.0 0.0 0.0 1.0 0.8475054844954366 16.74224358486841\n",
            "  74.48269656966285 187.86791583368435 188.6515597002476]]\n"
          ]
        }
      ],
      "source": [
        "np.set_printoptions(precision=1)\n",
        "print(np.concatenate((X_test ,y_pred.reshape(len(y_pred),1) ,y_test.reshape(len(y_test),1)) ,1))"
      ]
    },
    {
      "cell_type": "code",
      "execution_count": null,
      "metadata": {
        "colab": {
          "base_uri": "https://localhost:8080/"
        },
        "id": "rHHDfjUzvjFx",
        "outputId": "3fed1f8a-a1f1-4291-9ee0-3fb00b301fac"
      },
      "outputs": [
        {
          "output_type": "execute_result",
          "data": {
            "text/plain": [
              "20"
            ]
          },
          "metadata": {},
          "execution_count": 14
        }
      ],
      "source": [
        "len(y_pred)"
      ]
    },
    {
      "cell_type": "code",
      "execution_count": null,
      "metadata": {
        "colab": {
          "base_uri": "https://localhost:8080/"
        },
        "id": "FxEsKhw5vjFx",
        "outputId": "c801b32b-242d-48c4-e616-e69753ad3160"
      },
      "outputs": [
        {
          "output_type": "execute_result",
          "data": {
            "text/plain": [
              "array([516.9, 433.2, 356.9, 466.2, 329.4, 501.4, 263.3, 463.9, 381.2,\n",
              "       366.1, 510.5, 551.7, 283.3, 417.8, 441. , 568. , 460.6, 557.6,\n",
              "       354.8, 188.7])"
            ]
          },
          "metadata": {},
          "execution_count": 15
        }
      ],
      "source": [
        "y_test"
      ]
    },
    {
      "cell_type": "code",
      "execution_count": null,
      "metadata": {
        "colab": {
          "base_uri": "https://localhost:8080/"
        },
        "id": "oQpZSOiGvjFx",
        "outputId": "836052b4-238e-46c9-c2a1-9458cb0da06e"
      },
      "outputs": [
        {
          "output_type": "execute_result",
          "data": {
            "text/plain": [
              "array([512.3, 426.8, 350.7, 470. , 322.3, 506.2, 259.9, 468.9, 390.4,\n",
              "       359.4, 508.6, 557.4, 289.9, 417.8, 449.8, 573.6, 462.7, 549.5,\n",
              "       348.8, 187.9])"
            ]
          },
          "metadata": {},
          "execution_count": 16
        }
      ],
      "source": [
        "y_pred"
      ]
    },
    {
      "cell_type": "markdown",
      "source": [
        "Measuring average absolute difference between the predicted and actual values."
      ],
      "metadata": {
        "id": "KqtgOR7zVvps"
      }
    },
    {
      "cell_type": "code",
      "source": [
        "from sklearn.metrics import mean_absolute_error\n",
        "mae = mean_absolute_error(y_test, y_pred)\n",
        "print(\"Mean Absolute Error:\", mae)"
      ],
      "metadata": {
        "colab": {
          "base_uri": "https://localhost:8080/"
        },
        "id": "kqgKDQBiVqqs",
        "outputId": "f461668a-13eb-49b1-e5e4-9c9da7d99e8b"
      },
      "execution_count": null,
      "outputs": [
        {
          "output_type": "stream",
          "name": "stdout",
          "text": [
            "Mean Absolute Error: 5.145212496744543\n"
          ]
        }
      ]
    },
    {
      "cell_type": "markdown",
      "source": [
        "Measuring the proportion of variance in the target variable that can be explained by the predictor variables."
      ],
      "metadata": {
        "id": "goHG6hyDWNBf"
      }
    },
    {
      "cell_type": "code",
      "source": [
        "from sklearn.metrics import r2_score\n",
        "r2 = r2_score(y_test, y_pred)\n",
        "print(\"R2 Score:\", r2)"
      ],
      "metadata": {
        "colab": {
          "base_uri": "https://localhost:8080/"
        },
        "id": "VRNOch38WPiW",
        "outputId": "47280edd-8f6a-483c-9f77-a05f2123b56c"
      },
      "execution_count": null,
      "outputs": [
        {
          "output_type": "stream",
          "name": "stdout",
          "text": [
            "R2 Score: 0.9968485783005029\n"
          ]
        }
      ]
    },
    {
      "cell_type": "markdown",
      "source": [
        "Visualizing the performance of the model by plotting the predicted and actual values using a scatter plot."
      ],
      "metadata": {
        "id": "_CP6M2OEWXz_"
      }
    },
    {
      "cell_type": "code",
      "source": [
        "import matplotlib.pyplot as plt\n",
        "plt.scatter(y_test, y_pred)\n",
        "plt.xlabel('Actual values')\n",
        "plt.ylabel('Predicted values')\n",
        "plt.title('Actual vs Predicted values')\n",
        "plt.show()"
      ],
      "metadata": {
        "colab": {
          "base_uri": "https://localhost:8080/",
          "height": 295
        },
        "id": "T-w5PcCCWaQw",
        "outputId": "5155b94f-ce93-41bf-d351-1d690684a1c4"
      },
      "execution_count": null,
      "outputs": [
        {
          "output_type": "display_data",
          "data": {
            "text/plain": [
              "<Figure size 432x288 with 1 Axes>"
            ],
            "image/png": "[encoded data removed]"
          },
          "metadata": {
            "needs_background": "light"
          }
        }
      ]
    },
    {
      "cell_type": "markdown",
      "source": [
        "Introduction about the project :\n",
        "\n",
        "The objective of this report is to analyze the relationship between the hours studied, hours slept, IQ and location of a student and their marks. We will build a multiple linear regression model to predict the marks of the student based on these factors.\n",
        "\n",
        "Dataset :\n",
        "The data used for this analysis is random which includes the number of hours a student has studied, the number of hours they slept, their IQ and their location. These variables were collected for a group of students and their corresponding marks were also recorded.\n",
        "\n",
        "Methods:\n",
        "Multiple linear regression is a statistical technique that uses several explanatory variables to predict the outcome of a response variable. In this case, the dependent variable is the marks of the student and the independent variables are the hours studied, hours slept, IQ and location.\n",
        "\n",
        "The multiple linear regression model is built by fitting a linear equation to the data. The linear equation is of the form Y = b0 + b1x1 + b2x2 + b3x3 + b4x4, where Y is the dependent variable, x1, x2, x3 and x4 are the independent variables, and b0, b1, b2, b3 and b4 are the coefficients.\n",
        "\n",
        "The coefficients are randomly assigned. It uses the equation Marks = 1.73 + 3.34*H + 2.45*Hours_slept + 1.83*iQ, which is a linear combination of the independent variables (hours studied, hours slept, and IQ) with the corresponding coefficients (3.34, 2.45, and 1.83, respectively) plus a constant term (1.73).Once the model was built, it was used to predict the marks of a student based on the values of the independent variables.\n",
        "\n",
        "Results:\n",
        "After building the multiple linear regression model, we evaluated its performance by computing various metrics, trained the model and predicted values of the dependent  variable (student marks) for a test set. We found that the model had a good fit, with an R-squared value of 0.99, which means that 99% of the variation in the marks can be explained by the independent variables.\n",
        "\n",
        "We also computed the mean absolute error to measure the accuracy of the model. The mean absolute error was found to be 5.14.\n",
        "\n",
        "At last, we did a visualization of the performance of the model by plotting the predicted and actual values using a scatter plot.\n",
        "\n",
        "Conclusion:\n",
        "In this report, we built a multiple linear regression model to predict the marks of a student based on the hours studied, hours slept, IQ and location. The model showed a good fit and had a high R-squared value. This suggests that the independent variables have a strong relationship with the dependent variable and can be used to predict the marks of the student with reasonable accuracy."
      ],
      "metadata": {
        "id": "bQY0GMhKXD5M"
      }
    }
  ],
  "metadata": {
    "colab": {
      "provenance": []
    },
    "kernelspec": {
      "display_name": "Python 3",
      "language": "python",
      "name": "python3"
    },
    "language_info": {
      "codemirror_mode": {
        "name": "ipython",
        "version": 3
      },
      "file_extension": ".py",
      "mimetype": "text/x-python",
      "name": "python",
      "nbconvert_exporter": "python",
      "pygments_lexer": "ipython3",
      "version": "3.8.5"
    }
  },
  "nbformat": 4,
  "nbformat_minor": 0
}