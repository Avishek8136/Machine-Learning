{
  "nbformat": 4,
  "nbformat_minor": 0,
  "metadata": {
    "colab": {
      "provenance": []
    },
    "kernelspec": {
      "name": "python3",
      "display_name": "Python 3"
    },
    "language_info": {
      "name": "python"
    }
  },
  "cells": [
    {
      "cell_type": "code",
      "execution_count": null,
      "metadata": {
        "id": "bXnbA_soCH98"
      },
      "outputs": [],
      "source": [
        "import numpy as  np\n",
        "import matplotlib.pyplot as plt\n",
        "from mpl_toolkits.mplot3d import Axes3D\n",
        "import plotly\n",
        "import plotly.graph_objs as go\n",
        "import  numpy.linalg as LA"
      ]
    },
    {
      "cell_type": "markdown",
      "source": [
        "**PROPERTIES OF DETERMINANTS**"
      ],
      "metadata": {
        "id": "CUJSZobLNi9b"
      }
    },
    {
      "cell_type": "markdown",
      "source": [
        "1.det(I)=1 where I is the identity matrix"
      ],
      "metadata": {
        "id": "U3to-culERHG"
      }
    },
    {
      "cell_type": "code",
      "source": [
        "from  sympy import*\n",
        "A=Matrix([[1,0,0],[0,1,0],[0,0,1]])\n",
        "print(\"Determinant of  A is\",det(A))"
      ],
      "metadata": {
        "colab": {
          "base_uri": "https://localhost:8080/"
        },
        "id": "eOVAlHLnDmTw",
        "outputId": "277726ad-c43e-496f-f29b-f1f19343955b"
      },
      "execution_count": null,
      "outputs": [
        {
          "output_type": "stream",
          "name": "stdout",
          "text": [
            "Determinant of  A is 1\n"
          ]
        }
      ]
    },
    {
      "cell_type": "markdown",
      "source": [
        "2.If you exchage two rows f a  matrix, you reverse the sig  of its determinant"
      ],
      "metadata": {
        "id": "QD6Tc53MEwht"
      }
    },
    {
      "cell_type": "code",
      "source": [
        "from  sympy import*\n",
        "A=Matrix([[1,0,0],[0,0,1],[0,1,0]])\n",
        "print(\"Determinant of  A is\",det(A))"
      ],
      "metadata": {
        "colab": {
          "base_uri": "https://localhost:8080/"
        },
        "id": "QIz_GrMmD_Xz",
        "outputId": "a85c2d7b-97c2-4aaa-b8c1-0037e4433e3d"
      },
      "execution_count": null,
      "outputs": [
        {
          "output_type": "stream",
          "name": "stdout",
          "text": [
            "Determinant of  A is -1\n"
          ]
        }
      ]
    },
    {
      "cell_type": "markdown",
      "source": [
        "3.If you  multipy  one row of  matrix by a scaalr   t then the determian  is also  muultiplied by t"
      ],
      "metadata": {
        "id": "sGOG-drxEzXG"
      }
    },
    {
      "cell_type": "code",
      "source": [
        "from  sympy import*\n",
        "A=Matrix([[2,0,0],[0,1,0],[0,0,1]])\n",
        "print(\"Determinant of  A is\",det(A))"
      ],
      "metadata": {
        "colab": {
          "base_uri": "https://localhost:8080/"
        },
        "id": "l1Yki9Z-EJHi",
        "outputId": "e223126f-9270-4c43-eb9c-3b1f1b596d6c"
      },
      "execution_count": null,
      "outputs": [
        {
          "output_type": "stream",
          "name": "stdout",
          "text": [
            "Determinant of  A is 2\n"
          ]
        }
      ]
    },
    {
      "cell_type": "markdown",
      "source": [
        "4.If two rows of a  matrix are  equal then its determinant is 0"
      ],
      "metadata": {
        "id": "He_thmp3FY32"
      }
    },
    {
      "cell_type": "code",
      "source": [
        "from  sympy import*\n",
        "A=Matrix([[2,0,0],[0,0,1],[0,0,1]])\n",
        "print(\"Determinant of  A is\",det(A))"
      ],
      "metadata": {
        "colab": {
          "base_uri": "https://localhost:8080/"
        },
        "id": "TPIfFg0aFTcI",
        "outputId": "4076b593-fe3f-4b89-fc2f-74fe42788752"
      },
      "execution_count": null,
      "outputs": [
        {
          "output_type": "stream",
          "name": "stdout",
          "text": [
            "Determinant of  A is 0\n"
          ]
        }
      ]
    },
    {
      "cell_type": "markdown",
      "source": [
        "5.If matrix has a row that is  all zeroes  its  determinant is zero"
      ],
      "metadata": {
        "id": "JW345jrqFz-a"
      }
    },
    {
      "cell_type": "code",
      "source": [
        "from  sympy import*\n",
        "A=Matrix([[1,0,0],[0,0,1],[0,0,0]])\n",
        "print(\"Determinant of  A is\",det(A))"
      ],
      "metadata": {
        "colab": {
          "base_uri": "https://localhost:8080/"
        },
        "id": "fHneRmvxF0Rj",
        "outputId": "b3bb3ef6-2fd2-4555-a45d-d1e25024c64e"
      },
      "execution_count": null,
      "outputs": [
        {
          "output_type": "stream",
          "name": "stdout",
          "text": [
            "Determinant of  A is 0\n"
          ]
        }
      ]
    },
    {
      "cell_type": "markdown",
      "source": [
        "6.The determinant of  triangular matrix is  the product of the   diagoal  elements"
      ],
      "metadata": {
        "id": "XmHZ-x7fGF-n"
      }
    },
    {
      "cell_type": "code",
      "source": [
        "from sympy import*\n",
        "A=Matrix([[1,7,9],[0,8,6],[0,0,2]])\n",
        "print(\"Determinant ofA is \",det(A))\n",
        "dia=A[0]*A[4]*A[8]\n",
        "print(\"product of diagonal elements is\",dia)"
      ],
      "metadata": {
        "colab": {
          "base_uri": "https://localhost:8080/"
        },
        "id": "64Ya5nljGGIR",
        "outputId": "b6a5a44d-aeda-4d1e-dd4a-7e4a4cba7918"
      },
      "execution_count": null,
      "outputs": [
        {
          "output_type": "stream",
          "name": "stdout",
          "text": [
            "Determinant ofA is  16\n",
            "product of diagonal elements is 16\n"
          ]
        }
      ]
    },
    {
      "cell_type": "markdown",
      "source": [
        "7.det(A)=0 when  A is  a sigular matrix"
      ],
      "metadata": {
        "id": "81wl6GU7ICa3"
      }
    },
    {
      "cell_type": "code",
      "source": [
        "from sympy import*\n",
        "A=Matrix([[1,2],[1,2]])#this is a singular matrix\n",
        "print(\"Determinant of A is\",det(A))"
      ],
      "metadata": {
        "colab": {
          "base_uri": "https://localhost:8080/"
        },
        "id": "kPxCO8QXICk9",
        "outputId": "4d324e97-68e3-410f-9874-1412aeb13ffe"
      },
      "execution_count": null,
      "outputs": [
        {
          "output_type": "stream",
          "name": "stdout",
          "text": [
            "Determinant of A is 0\n"
          ]
        }
      ]
    },
    {
      "cell_type": "markdown",
      "source": [
        "8.det(AB)=det(A)det(B)"
      ],
      "metadata": {
        "id": "sy1jpjK5IqIJ"
      }
    },
    {
      "cell_type": "code",
      "source": [
        "from sympy import*\n",
        "A=Matrix([[2,3,5],[2,7,6],[4,7,7]])\n",
        "B=Matrix([[1,3,5],[7,5,6],[3,4,5]])\n",
        "AB=A*B\n",
        "D=det(AB)\n",
        "C=det(A)*det(B)\n",
        "if(C==D):\n",
        "  print(\"true\")\n",
        "else:\n",
        "  print(\"false\")"
      ],
      "metadata": {
        "colab": {
          "base_uri": "https://localhost:8080/"
        },
        "id": "2JOsLIdgIp9D",
        "outputId": "16284c22-6b64-4281-aa9c-3cd3da0e5836"
      },
      "execution_count": null,
      "outputs": [
        {
          "output_type": "stream",
          "name": "stdout",
          "text": [
            "true\n"
          ]
        }
      ]
    },
    {
      "cell_type": "markdown",
      "source": [
        "9.The determinant of  the transpose  of a matrix  is same as the determinant of the original matrix"
      ],
      "metadata": {
        "id": "OJQuqf3qMGwb"
      }
    },
    {
      "cell_type": "code",
      "source": [
        "from sympy import*\n",
        "A=Matrix([[1,0,0],[0,1,0],[0,0,1]])\n",
        "AT=A.T\n",
        "print(\"the determiant  of the matrix  is \",det(A))\n",
        "print(\"the determinant of  the transpose  is\",det(AT))"
      ],
      "metadata": {
        "colab": {
          "base_uri": "https://localhost:8080/"
        },
        "id": "t-RolsFlMG6b",
        "outputId": "9513997c-70ac-4e30-ecaf-02816b2add5e"
      },
      "execution_count": null,
      "outputs": [
        {
          "output_type": "stream",
          "name": "stdout",
          "text": [
            "the determiant  of the matrix  is  1\n",
            "the determinant of  the transpose  is 1\n"
          ]
        }
      ]
    },
    {
      "cell_type": "markdown",
      "source": [
        "**FINDING THE INVERSE OF A MATRIX**"
      ],
      "metadata": {
        "id": "DiGkva1hNUjh"
      }
    },
    {
      "cell_type": "code",
      "source": [
        "M=Matrix([[3,2,-1],[1,6,3],[2,4,0]])\n",
        "M.inv()"
      ],
      "metadata": {
        "colab": {
          "base_uri": "https://localhost:8080/",
          "height": 78
        },
        "id": "cShVMyLPNUs0",
        "outputId": "a4ec4613-b811-4c42-e72e-1e778be846de"
      },
      "execution_count": null,
      "outputs": [
        {
          "output_type": "execute_result",
          "data": {
            "text/plain": [
              "Matrix([\n",
              "[ 3/4,  1/4, -3/4],\n",
              "[-3/8, -1/8,  5/8],\n",
              "[ 1/2,  1/2,   -1]])"
            ],
            "text/latex": "$\\displaystyle \\left[\\begin{matrix}\\frac{3}{4} & \\frac{1}{4} & - \\frac{3}{4}\\\\- \\frac{3}{8} & - \\frac{1}{8} & \\frac{5}{8}\\\\\\frac{1}{2} & \\frac{1}{2} & -1\\end{matrix}\\right]$"
          },
          "metadata": {},
          "execution_count": 30
        }
      ]
    },
    {
      "cell_type": "markdown",
      "source": [
        "**CRAMMER'S RULE**"
      ],
      "metadata": {
        "id": "1YQoh4mFPXgm"
      }
    },
    {
      "cell_type": "code",
      "source": [
        "#solve the given system of equations\n",
        "#x+y+z=6\n",
        "#y+3z=11\n",
        "#x-2y+z=0\n",
        "\n",
        "from sympy import*\n",
        "A=Matrix([[1,0,1],[1,1,-2],[1,3,1]])\n",
        "A1=Matrix([[6,11,0],[1,1,-2],[1,3,1]])\n",
        "A2=Matrix([[1,0,1],[6,11,0],[1,3,1]])\n",
        "A3=Matrix([[1,0,1],[1,1,-2],[6,11,0]])\n",
        "\n",
        "x=(det(A1)/det(A))\n",
        "y=(det(A2)/det(A))\n",
        "z=(det(A3)/det(A))\n",
        "print(x,y,z)"
      ],
      "metadata": {
        "colab": {
          "base_uri": "https://localhost:8080/"
        },
        "id": "VuKLFiCMPXzR",
        "outputId": "1342266a-3025-475a-dfc9-e72b81715bbb"
      },
      "execution_count": null,
      "outputs": [
        {
          "output_type": "stream",
          "name": "stdout",
          "text": [
            "1 2 3\n"
          ]
        }
      ]
    }
  ]
}