{
  "nbformat": 4,
  "nbformat_minor": 0,
  "metadata": {
    "colab": {
      "provenance": []
    },
    "kernelspec": {
      "name": "python3",
      "display_name": "Python 3"
    },
    "language_info": {
      "name": "python"
    }
  },
  "cells": [
    {
      "cell_type": "markdown",
      "source": [
        "Reduced Row Echleon Form\n"
      ],
      "metadata": {
        "id": "gCHEbHvi8e-O"
      }
    },
    {
      "cell_type": "code",
      "execution_count": null,
      "metadata": {
        "id": "IiRhzd1T5H46",
        "colab": {
          "base_uri": "https://localhost:8080/"
        },
        "outputId": "739f06de-82d0-41f9-9bfc-a1d97f67947e"
      },
      "outputs": [
        {
          "output_type": "stream",
          "name": "stdout",
          "text": [
            "The Reduced Row echelon form of matrix M and the pivot columns : (Matrix([\n",
            "[1, 0, 0, -1],\n",
            "[0, 1, 0,  2],\n",
            "[0, 0, 1,  2]]), (0, 1, 2))\n"
          ]
        }
      ],
      "source": [
        "from sympy import * \n",
        "M = Matrix([[2,4,-2,2], [4,9,-3,8],[-2,-3,7,10]]) \n",
        "#Defining a matrix\n",
        "M_rref = M.rref() \n",
        "# function for reduced row echleon form\n",
        "print(\"The Reduced Row echelon form of matrix M and the pivot columns : {}\".format(M_rref))"
      ]
    },
    {
      "cell_type": "markdown",
      "source": [
        "Computing Rank of a matrix"
      ],
      "metadata": {
        "id": "F7kcYKNB9CCD"
      }
    },
    {
      "cell_type": "code",
      "source": [
        "import numpy as np \n",
        "A= np.array([[2,4,-2,2], [4,9,-3,8],[-2,-3,7,10]]) \n",
        "from numpy.linalg import matrix_rank\n",
        "# Finding Rank of A Matrix\n",
        "matrix_rank(A) "
      ],
      "metadata": {
        "colab": {
          "base_uri": "https://localhost:8080/"
        },
        "id": "aVUIyPus9lUg",
        "outputId": "60d8a373-4e6e-4fe9-d3da-2701004c6376"
      },
      "execution_count": null,
      "outputs": [
        {
          "output_type": "execute_result",
          "data": {
            "text/plain": [
              "3"
            ]
          },
          "metadata": {},
          "execution_count": 2
        }
      ]
    },
    {
      "cell_type": "markdown",
      "source": [
        "Finding Row Space , Reduced Row Echleon Form and Column Space"
      ],
      "metadata": {
        "id": "zsq6srtyFDWC"
      }
    },
    {
      "cell_type": "code",
      "source": [
        "from sympy import *\n",
        "M = Matrix([[2,4,-2,2], [4,9,-3,8],[-2,-3,7,10]])\n",
        "M_rowspace = M.rowspace() #Finding rowspace\n",
        "M_v= M.rref() # Finding rref\n",
        "print(\"Rowspace of a matrix : {}\".format(M_rowspace))\n",
        "print(\"RREF of a matrix : {}\".format(M_v))\n",
        "print(\"Columnspace of a matrix : {}\".format(M.columnspace())) # Finding columnspace\n",
        "print(\"Dimension of row space is \",len(M_rowspace))"
      ],
      "metadata": {
        "colab": {
          "base_uri": "https://localhost:8080/"
        },
        "id": "CeCuDuE8EZOd",
        "outputId": "105b2f1f-c57a-4eee-a275-d2ccb6ba8a10"
      },
      "execution_count": null,
      "outputs": [
        {
          "output_type": "stream",
          "name": "stdout",
          "text": [
            "Rowspace of a matrix : [Matrix([[2, 4, -2, 2]]), Matrix([[0, 2, 2, 8]]), Matrix([[0, 0, 16, 32]])]\n",
            "RREF of a matrix : (Matrix([\n",
            "[1, 0, 0, -1],\n",
            "[0, 1, 0,  2],\n",
            "[0, 0, 1,  2]]), (0, 1, 2))\n",
            "Columnspace of a matrix : [Matrix([\n",
            "[ 2],\n",
            "[ 4],\n",
            "[-2]]), Matrix([\n",
            "[ 4],\n",
            "[ 9],\n",
            "[-3]]), Matrix([\n",
            "[-2],\n",
            "[-3],\n",
            "[ 7]])]\n",
            "Dimension of row space is  3\n"
          ]
        }
      ]
    },
    {
      "cell_type": "markdown",
      "source": [
        "Code for computing column space and dimension of column space"
      ],
      "metadata": {
        "id": "HWxGjccU-hKi"
      }
    },
    {
      "cell_type": "code",
      "source": [
        "from sympy import *\n",
        "M = Matrix([[2,4,-2,2], [4,9,-3,8],[-2,-3,7,10]])\n",
        "M_columnspace = M.columnspace() #Finding columnspace\n",
        "print(\"Columnspace of a matrix : {}\".format(M_columnspace))\n",
        "print(\"Dimension of column space is \",len(M_columnspace))"
      ],
      "metadata": {
        "colab": {
          "base_uri": "https://localhost:8080/"
        },
        "id": "CfXsuzQ8_itg",
        "outputId": "43ab1cf4-eb8e-487c-e91a-0ab1d58e175e"
      },
      "execution_count": null,
      "outputs": [
        {
          "output_type": "stream",
          "name": "stdout",
          "text": [
            "Columnspace of a matrix : [Matrix([\n",
            "[ 2],\n",
            "[ 4],\n",
            "[-2]]), Matrix([\n",
            "[ 4],\n",
            "[ 9],\n",
            "[-3]]), Matrix([\n",
            "[-2],\n",
            "[-3],\n",
            "[ 7]])]\n",
            "Dimension of column space is  3\n"
          ]
        }
      ]
    },
    {
      "cell_type": "markdown",
      "source": [],
      "metadata": {
        "id": "lNsRFJaGACRQ"
      }
    },
    {
      "cell_type": "code",
      "source": [
        "from sympy import *\n",
        "M = Matrix([[2,4,-2,2], [4,9,-3,8],[-2,-3,7,10]])\n",
        "print(\"Matrix : {} \".format(M))\n",
        "# .nullspace for nullspace\n",
        "M_nullspace = M.nullspace()\n",
        "print(\"Nullspace of a matrix : {}\".format(M_nullspace))\n",
        "print(\"Dimension of null space is\",len(M_nullspace))"
      ],
      "metadata": {
        "colab": {
          "base_uri": "https://localhost:8080/"
        },
        "id": "ajObnEqvAio7",
        "outputId": "c0864cc0-3e0b-48b8-e9d0-6e689b05a2d3"
      },
      "execution_count": null,
      "outputs": [
        {
          "output_type": "stream",
          "name": "stdout",
          "text": [
            "Matrix : Matrix([[2, 4, -2, 2], [4, 9, -3, 8], [-2, -3, 7, 10]]) \n",
            "Nullspace of a matrix : [Matrix([\n",
            "[ 1],\n",
            "[-2],\n",
            "[-2],\n",
            "[ 1]])]\n",
            "Dimension of null space is 1\n"
          ]
        }
      ]
    },
    {
      "cell_type": "markdown",
      "source": [
        "Reduced Row echleon Form of No solution Matrix\n"
      ],
      "metadata": {
        "id": "hlVZhGe6BSxC"
      }
    },
    {
      "cell_type": "code",
      "source": [
        "from sympy import * \n",
        "M = Matrix([[1, 2, 4 ,6], [0,1,1,1], [1 ,3, 5, 10]]) \n",
        "print(\"Matrix : {} \".format(M)) \n",
        "M_rref = M.rref() \n",
        "print(\"The Reduced Row echelon form of matrix M and the pivot columns: {}\".format(M_rref))"
      ],
      "metadata": {
        "colab": {
          "base_uri": "https://localhost:8080/"
        },
        "id": "DLKRd8b_Cj42",
        "outputId": "cf7376ab-51c9-4f65-e339-603e22379bd9"
      },
      "execution_count": null,
      "outputs": [
        {
          "output_type": "stream",
          "name": "stdout",
          "text": [
            "Matrix : Matrix([[1, 2, 4, 6], [0, 1, 1, 1], [1, 3, 5, 10]]) \n",
            "The Reduced Row echelon form of matrix M and the pivot columns: (Matrix([\n",
            "[1, 0, 2, 0],\n",
            "[0, 1, 1, 0],\n",
            "[0, 0, 0, 1]]), (0, 1, 3))\n"
          ]
        }
      ]
    },
    {
      "cell_type": "markdown",
      "source": [
        "Solving Equations"
      ],
      "metadata": {
        "id": "tleAF-PiHDw6"
      }
    },
    {
      "cell_type": "code",
      "source": [
        "from sympy import symbols, Eq, solve \n",
        "#Solving equations\n",
        "x, y,z = symbols('x y z ') \n",
        "eq1 = Eq(x+2*y+3*z-1 , 0) \n",
        "eq2 = Eq(x+y+4*z+7, 9) # Equation and value\n",
        "eq3 = Eq(2*x+y+5*z-2, 0) \n",
        "solve((eq1,eq2,eq3), (x, y,z)) "
      ],
      "metadata": {
        "colab": {
          "base_uri": "https://localhost:8080/"
        },
        "id": "5LAfMRbEHUQB",
        "outputId": "0b6613d3-aefa-41b7-973c-d5128196e02f"
      },
      "execution_count": null,
      "outputs": [
        {
          "output_type": "execute_result",
          "data": {
            "text/plain": [
              "{x: -3/4, y: -1/4, z: 3/4}"
            ]
          },
          "metadata": {},
          "execution_count": 42
        }
      ]
    },
    {
      "cell_type": "markdown",
      "source": [
        "Solving Equations Zero Solution\n"
      ],
      "metadata": {
        "id": "W2_FYPcGIHtO"
      }
    },
    {
      "cell_type": "code",
      "source": [
        "from sympy import symbols, Eq, solve \n",
        "x, y = symbols('x y ') \n",
        "eql = Eq(x+3*y-1 , 0) \n",
        "eq2 = Eq(2*x+y+7, 0) \n",
        "eq3 = Eq(6*x+y-2, 0) \n",
        "eq4 = Eq(5*x+y-1, 0) \n",
        "solve((eql,eq2,eq3,eq4), (x, y)) # no solution"
      ],
      "metadata": {
        "colab": {
          "base_uri": "https://localhost:8080/"
        },
        "id": "aZOo2rdUIGpD",
        "outputId": "c9042c02-05ab-43c1-cf45-c3460843d9f1"
      },
      "execution_count": null,
      "outputs": [
        {
          "output_type": "execute_result",
          "data": {
            "text/plain": [
              "[]"
            ]
          },
          "metadata": {},
          "execution_count": 16
        }
      ]
    },
    {
      "cell_type": "markdown",
      "source": [
        "Solving One Solution"
      ],
      "metadata": {
        "id": "5PEK5_aQIFyb"
      }
    },
    {
      "cell_type": "code",
      "source": [
        "from sympy import symbols, Eq, solve \n",
        "x, y = symbols('x y ')\n",
        "eq1 = Eq(x+3*y-4, 0) \n",
        "eq2 = Eq(2*x+y-3, 0)\n",
        "eq3 = Eq(6*x+y-7, 0) \n",
        "eq4 = Eq(5*x+y-6, 0) \n",
        "solve((eq1,eq2,eq3,eq4), (x, y))# One Solution\n"
      ],
      "metadata": {
        "colab": {
          "base_uri": "https://localhost:8080/"
        },
        "id": "e1RYoGx-ZuvN",
        "outputId": "d787ba61-a753-45cc-ceb3-fed0568c916c"
      },
      "execution_count": null,
      "outputs": [
        {
          "output_type": "execute_result",
          "data": {
            "text/plain": [
              "{x: 1, y: 1}"
            ]
          },
          "metadata": {},
          "execution_count": 15
        }
      ]
    },
    {
      "cell_type": "markdown",
      "source": [
        "Case m < n Infinitely Many Solutions \n",
        "I and F not overlapped \n"
      ],
      "metadata": {
        "id": "G7_jRn4_aTkB"
      }
    },
    {
      "cell_type": "code",
      "source": [
        "from sympy import*\n",
        " \n",
        "M = Matrix([[1,2,6,5],[3,1,1,1]])\n",
        "print( \"Matrix : {} \".format(M))\n",
        "M_rref = M.rref()\n",
        "print(\"The Reduced Row echelon form of matrix Mand the pivot columns\t{}\".format(M_rref))"
      ],
      "metadata": {
        "colab": {
          "base_uri": "https://localhost:8080/"
        },
        "id": "fX1JWJ5DaYqj",
        "outputId": "740188a2-4523-4bb2-ce36-0e9f6da093d7"
      },
      "execution_count": null,
      "outputs": [
        {
          "output_type": "stream",
          "name": "stdout",
          "text": [
            "Matrix : Matrix([[1, 2, 6, 5], [3, 1, 1, 1]]) \n",
            "The Reduced Row echelon form of matrix Mand the pivot columns\t(Matrix([\n",
            "[1, 0, -4/5, -3/5],\n",
            "[0, 1, 17/5, 14/5]]), (0, 1))\n"
          ]
        }
      ]
    },
    {
      "cell_type": "code",
      "source": [
        "from sympy import symbols, Eq, solve \n",
        "x, y,z,w = symbols('x y z w')\n",
        "eql = Eq(x+2*y+6*z+5*w-3, 0)\n",
        "eq2 = Eq(3*x+y+z+w-4, 0) \n",
        "solve((eql,eq2), (x, y,z,w))\n",
        "\n"
      ],
      "metadata": {
        "colab": {
          "base_uri": "https://localhost:8080/"
        },
        "id": "IcOcuiWgavnT",
        "outputId": "b01c777a-1fe7-47ee-cf97-fbc9b52d162e"
      },
      "execution_count": null,
      "outputs": [
        {
          "output_type": "execute_result",
          "data": {
            "text/plain": [
              "{x: 3*w/5 + 4*z/5 + 1, y: -14*w/5 - 17*z/5 + 1}"
            ]
          },
          "metadata": {},
          "execution_count": 10
        }
      ]
    },
    {
      "cell_type": "markdown",
      "source": [
        "I and F overlapped "
      ],
      "metadata": {
        "id": "HO6zdbEna8Gt"
      }
    },
    {
      "cell_type": "code",
      "source": [
        "from sympy import*\n",
        "M = Matrix([[1,2,6,5,3],[1,2,1,1,4]])\n",
        "print( \"Matrix : {} \".format(M)) \n",
        "M_rref = M.rref()\n",
        "print(\"The Reduced Row echelon form of matrix Mand the pivot columns\t{}\".format(M_rref))"
      ],
      "metadata": {
        "colab": {
          "base_uri": "https://localhost:8080/"
        },
        "id": "cPSDRZZvatZh",
        "outputId": "98619314-84bc-4b1f-801e-9fb01574a32d"
      },
      "execution_count": null,
      "outputs": [
        {
          "output_type": "stream",
          "name": "stdout",
          "text": [
            "Matrix : Matrix([[1, 2, 6, 5, 3], [1, 2, 1, 1, 4]]) \n",
            "The Reduced Row echelon form of matrix Mand the pivot columns\t(Matrix([\n",
            "[1, 2, 0, 1/5, 21/5],\n",
            "[0, 0, 1, 4/5, -1/5]]), (0, 2))\n"
          ]
        }
      ]
    },
    {
      "cell_type": "code",
      "source": [
        "from sympy import symbols, Eq, solve \n",
        "x, y,z,w = symbols('x y z w')\n",
        "eql = Eq(x+2*y+6*z+5*w-3, 0) \n",
        "eq2 = Eq(x+2*y+z+w-4, 0) \n",
        "solve((eql,eq2), (x, y,z,w))\n",
        "\n"
      ],
      "metadata": {
        "colab": {
          "base_uri": "https://localhost:8080/"
        },
        "id": "omkSpCFpbXYs",
        "outputId": "e091ede4-3f0e-4006-d9f5-0e7ee910311d"
      },
      "execution_count": null,
      "outputs": [
        {
          "output_type": "execute_result",
          "data": {
            "text/plain": [
              "{x: -w/5 - 2*y + 21/5, z: -4*w/5 - 1/5}"
            ]
          },
          "metadata": {},
          "execution_count": 14
        }
      ]
    },
    {
      "cell_type": "markdown",
      "source": [
        "lnflitely many solutions "
      ],
      "metadata": {
        "id": "tOwBQyikbep-"
      }
    },
    {
      "cell_type": "code",
      "source": [
        "from sympy import*\n",
        "M = Matrix([[1, 2, 2, 2,1], [2, 4, 6, 8,2], [3, 6, 8, 10,3]])\n",
        "print( \"Matrix : {} \".format(M)) \n",
        "M_rref = M.rref()\n",
        "print(\"The Reduced Row echelon form of matrix Mand the pivot columns\t{}\".format(M_rref))"
      ],
      "metadata": {
        "colab": {
          "base_uri": "https://localhost:8080/"
        },
        "id": "o8GtzA4-b6VK",
        "outputId": "78b02296-4e31-4072-8458-670b456a0d19"
      },
      "execution_count": null,
      "outputs": [
        {
          "output_type": "stream",
          "name": "stdout",
          "text": [
            "Matrix : Matrix([[1, 2, 2, 2, 1], [2, 4, 6, 8, 2], [3, 6, 8, 10, 3]]) \n",
            "The Reduced Row echelon form of matrix Mand the pivot columns\t(Matrix([\n",
            "[1, 2, 0, -2, 1],\n",
            "[0, 0, 1,  2, 0],\n",
            "[0, 0, 0,  0, 0]]), (0, 2))\n"
          ]
        }
      ]
    },
    {
      "cell_type": "code",
      "source": [
        "from sympy import symbols, Eq, solve \n",
        "x, y,z,w = symbols('x y z w')\n",
        "eq1 = Eq(x +2*y+2*z+2*-w-1 , 0) \n",
        "eq2 = Eq(2*x+4*y+6*z+8*w-2, 0) \n",
        "eq3 = Eq(3*x+6*y+8*z+10*w-3, 0) \n",
        "solve((eq1,eq2,eq3), (x, y,z,w))"
      ],
      "metadata": {
        "colab": {
          "base_uri": "https://localhost:8080/"
        },
        "id": "qjYofSErcFXy",
        "outputId": "38fdd7a9-bcaf-46ef-ffea-05724da0b859"
      },
      "execution_count": null,
      "outputs": [
        {
          "output_type": "execute_result",
          "data": {
            "text/plain": [
              "{x: 1 - 2*y, z: 0, w: 0}"
            ]
          },
          "metadata": {},
          "execution_count": 22
        }
      ]
    },
    {
      "cell_type": "markdown",
      "source": [
        "1. ![Screenshot 2022-12-06 233558.png](data:image/png;base64,iVBORw0KGgoAAAANSUhEUgAAAUUAAAA6CAYAAAAnd0v9AAAAAXNSR0IArs4c6QAAAARnQU1BAACxjwv8YQUAAAAJcEhZcwAADsMAAA7DAcdvqGQAAA3ASURBVHhe7Z1riE3tF8D33zfXhEjuJCGRpJAaERFJyhAfKEnjCyll5BNDI0JySQo1wpRbRG5RMkrSaFxyzWUkl5G7j/P6Pf+9zvu82z7n7HP2Zc6cs36125ezz7OfZ1/WXs961lr7f81/cBRFURSDCkVFSZh169a5S/9SUVHh9OrVy10Lztu3b509e/a4a/9SVVXlLim50sadK4qSEEePHnWeP3/urkUL5VK+kj+qKSpKwgwcONDZvn27M3v2bHdLdJw5c8ZZtWqV8+LFC3eLkiuqKSqKolioUFQURbFQoagoBcjTp09NV9jm1q1bzu/fv901JS5UKCpKgfH582dnx44dzuPHj50jR46kti1cuNBpbGw060p8qFBUlAKjtrbWWblypXP37l3jcgMISOjdu7eZK/GhQlFRCozly5c77dq1c27fvu1MnDjRbLt3754zffp0p23btmZdiQ8ViopSgDx69MjMR40aZebHjx93xo8fb2yNaleMFxWKSqTgg2dPPMTFCO3ytjVKfv78aeYIQI716tUrc4xly5aZ7YUCg0H2OfAODmUj7P/jQJ23lUjhxt6/f7/Tr18/s44NzK/Lh60sn7C2dFDer1+/nK5duzpdunRxt4YnXbkIKxn0QGAhrII6THOOsjlvU/6MGTOcHj16OIMGDXL69OljtMWlS5eaAZd0IFSSdN7meO/evXMmT55s1tOdf9FuvfcCA0hNTU1m+erVq07Pnj1jcWrPCYSiokTFgAEDmp88eeKu/Zc/N39zTU1Nc0VFhdkvCv4IrObKysrmsrKy5vLyclPu5cuX3V/DsXfvXlOu1Je6+0F7c2kP+54+fdpdy8wfwesuBYNyozq3QeB4mdpSV1fXXF1dbeqU7r4QspWVFNp9VhKDEdQOHTqktMgouHnzpon3PX/+vHPs2DFnwYIFRmuTUdt8YWADzYxyd+/ebQY/1q9fn7g5IEptuiXgPLa2NqhQVBJj3Lhxpms0ZMgQd0s0MEorXdlJkyaZ+Z07d8w8Xz5+/Gi6xfX19WZ9zpw5Zv7w4UMzV4LBy2Ts2LHuWutAhaLSqpkyZYpz8eJFZ/DgwWYd3z4YNmyYmecL5eI4jSAH7F3Qv39/M1eKFxWKSqtHBCJG+3379hl/PtkWBhGIDBLQlabckSNHmm1K8aJCUSkaiARBcG3dutXdEg2HDx82mmfU5SqFiQpFpSigq9vQ0GAEF/bFqAZESMIg5YrPoFLcqFBUWj0ILgZAEFz4wWH/w7cwLJRbU1OTKvfGjRvOp0+f3F+VYkWFopIY2PzQtCS5wZUrVyJxncGZmRT8w4cPN47RW7ZsMc7OYZByL1y4kCoXp+hu3bq5eyhB4HrLiD0vK9bFkbtQUaGoJAaRCzwguOQQ0UEo2+vXr91f84PECZTlncJGtaQrV7PU5IYIRM4d0SqsF7pQ/CuiBa9z26ucKATWmQus+3mn19fXm6k1gae9TC1NvvXwXp+WhPpni1woNuKMaMkVys3nHsoXjhdVW6IsKwx/aYrYTOgm0NUBujqsS5cHKc+6n23l/v37zsuXL80y9hhJkFkM0BbaVAjY55brgfMyWlgUFFI7ixmeoTiIq9xS4i+hKNEGb968MXNsK4CRGf68Fc2c/bAHITzZh+WysjKT/41lttXV1f1ntI7t2JEyqc+yD3Mb1nlYvaN/YqPgePKblGE/3GyjrlJOOqQs9pF68h/aIu0UOF629qTbR+ooLx8vUldB1pnk3LLMAMDixYtT3TqO43dM+T/b+E3OlQ3bvO1kf+/5UJRi5i+hiC2GsBy0PsBplVAdDM6AJkjsKvvxEe65c+eaEChsQ6wjPK9fv24m7AeHDh0y/yObBgLz2rVrxnDNg+mFB499Tp06ZeYYzIGHlfWdO3eauNb58+enHtBp06aZbCLUgeUVK1akysBQLhqV1HXRokVmO2X4CaSNGzearMeMOlIux5a2SLsAJ2HqwnHYz0/Q8tFz9pE2iyCi7VLHMWPG+H4cnfNof+Rc1u1zK3Wh3RLmRv1Zp2z7PPN/2r5kyRLnwIEDZh+EnQ3XyttOyuPccj7SXTclHnhm7FRa3MvysgoLz4+Un2ny3iOlgO9ACxofDwcXgPhP0hUx56Gmq4aDrIBTK3Gm4v0PCB0C80mKWVVVZYQPaj0XlXVSS/HQeqmsrHQ2bNjgEIBP6BaCh//yvQrKI+CfAH2QmFRAiD148MDUC+HNcSiDsmiHQH34P/V9//59KiRM4AZgFPPEiRPm/+Xl5WbEjPbwX+rAMucFgY2gYD/Oj2jSAvWmrE2bNpk2Y2jm3AGCUtrJ/9gv6M1un1uWbbg+lMW5o2zOMwJQIA3VwYMHzXnkxSemDoF62u30lked2UeJH14+mKy49+VFREIKeckr8eErFAll4mFAeCBo0Ap5UHio2T569Gh3T8eZOnVq1pE+sXedO3fOaEUIRISXramJAJbgccK0yAlH2ew7c+ZMs53uIkKbsgQEM9sRjiACmowsNpTNfpSJwPMKRRES27ZtM/VEW0JT9iJZkdHc2O/s2bMpTVqQc4ZwQXvt3r17StAAbQAyiHCORTMLAy8AtHgJceM6cc3kmOTlo/2ynA1vedRTXo5KvHBvoqFzvtu3b2+2rVmzJrJkGtwHJOfINpViWKOvUOzbt6+Zo90h9IDsI6J1DB061MyDgnsDINiwfyG80D7kAYVMghVhJpmI4du3b+5S/mAz7dSpk7v2f7j5EALUkQnNCG3Li9yk2fZDq0ITHDFihNGCecuThNMLLw2vAIcvX764S8GQeglhbYBRl6cEBwEoPQv5JEHHjh1DJ7oQUEj8usveKZP9vVhpY2trAtqL5LzD5gUIQt5abA+aH00eavZHsKH5MSAgH+WxhSLLaCJokTx8dGVxmKV+s2bNMttZRktBK5MUUblw6dIlo5FKt9D7FkSzoo1MaEeMsNvdbzIMg9yk9n5yAwtSf8AmS7eUYyP8aScCknZy0/Ffb/YVNEvaKTcm9bXxE5hSf7pblI0Gy/XK1bfux48fZi7lUYcw5Sn5wb3HvSPPCYNgorWHhfsQAZttijrNW2ugjdcWJvDg2gJQBBsPdxA4oTzUIhjWrl1rHiqM9QwyfP/+3Wy3kc86sg9dB+xwIkTQthDQDBBQhwkTJrj/Cg4aGcemDN7EItwEjoXGh4ZHvenuirY0b948Y0eku8xN6t3PCwKXY3A89uGGpk2ATRFhQzv5L5qmV0BTN8432jpapo333ArUn3OGRk/ZdP2xe9ovn2xwTGxXtFPKQyDnW54Sjq9fv5o5L7qgz15QELDZJu6BksP1V8wLUqXbTsPedZa9jryss18m+J00814ozy4fKE/2ZW4fj33lWKSsxzGUfewycHSVyYZyvMeyyxP89rPhN7tONt52pqsHeI9tl8vce768x/T+n+V09eY3e19I1wYv1D/ovsUC7fVet0z4XWc/CITgEwtMfBrBe439CFp2VBSj83bJfLgKzQctCOOxEh9or3bSVy+YAqR3gsYetSEfswR1sL0h8kVGfekxodk/e/bMdGe9YI6hLVF+uCpfMHXQu0jyw1UQpC3Zrk0uZcWJ70BLMcIgD91OpeVAyOBrikkBMCeI4IkC7Lh0/T98+OBuCQf+pZg6EHjMid1V8iPqaxMnJSMUeTul016UZMDWiSsS1wJ7KxpYVH6PDARt3rzZXYsObMdMuKdpLyM/4ro2cVEyQlFpecQ3U8CZnG5pFJAdGyf6qOFbLYzCl+SAQ0TEdW3iQoWikhjY48Qmhx0OVyQ/G12u0DXD7xQBFjXYogkPxQWsFH32wsJ1juvaxIUKRaVFIHyS7rOfO1MuSNds9erV7pbowAaNLRrbIu5i1NXPr1fxh2tDmGIc1yZOVCgqiYPGJT6PQQMB0rFr1y7TNYuje4t/rIyUyiCdNzRUSc/JkyfNYFprMz2oUFQSBYGIMBSBSNKPMODcjCZHN5cYc8DZPGziBLp9BAswh1/uN1/scFMlO3Fcm7hRoagkBmGOROcQmcFoLn5pYRNhMHotkyQEkUQcYSB00w5plFR6EvaqZIdrEMe1iRsVikpikM+R0Wb81XAwZgqSrScIaKDYryAKbYRuM11m8k8S3kmdcSMK290vRaK+NnFTMhEtSjJkimiRrqgNyUGiEDQMgDQ1NRnNrrGxMbJyqTOJGdAQ05XHPhrRkr4tQa9NoUS0qFBUIoUHHo1Koj+IXilGHz8edAlXJHsS2mSpCkVcqwihBbTrXIIk5KUDUk5LC0XtPiuRgs0IvzRucCbcMooR2iVtpL20uxQhxR3IufD7oF0mJO0eE0h5LQqaoqIoyUEWm0zZYMhQRFYnO1NRTU2NWSdTTnV1ddoMR5SbZJacYkQ1RUUpIOiW4+yM07gkzmAbAz24BWGTw40pXR5UJTwqFBWlgOBjVTijE7oodjr55joDFdjrcCrXjE/xoUJRUQoIXIHIKk/ED5/hABGQdsZzzfgUHyoUFaXAoIuMP6doigzkSIYhutKdO3c2y0o8qFBUlAJDvn7Jx9pwfMbhuaGhwWyrra11KioqzLISDyoUFaXAwLEZP0biuuk64wxPaCQxxHSpo3BKV9KjztuKkjDF5LxdjKhQVJSEQSji7C02Q8g38seOrAGcoOluq1DMHxWKipIwCEUvmb6AmAmJu/aiQjF/VCgqiqJY6ECLoihKCsf5BwWTm2ne2yOeAAAAAElFTkSuQmCC)"
      ],
      "metadata": {
        "id": "wpnSiaEccERy"
      }
    },
    {
      "cell_type": "code",
      "source": [
        "from  sympy import symbols, Eq, solve\n",
        "u, v,q = symbols('u,v,w')\n",
        "eq1= Eq(u+2*v+2*w,1)\n",
        "eq2= Eq(2*u+4*v+5*w,4)\n",
        "solve((eq1,eq2,eq3),(u,v,w))"
      ],
      "metadata": {
        "colab": {
          "base_uri": "https://localhost:8080/"
        },
        "id": "nMLifJ9en1Fh",
        "outputId": "833744d9-a570-4624-fa15-716fca3b1499"
      },
      "execution_count": null,
      "outputs": [
        {
          "output_type": "execute_result",
          "data": {
            "text/plain": [
              "[]"
            ]
          },
          "metadata": {},
          "execution_count": 23
        }
      ]
    },
    {
      "cell_type": "markdown",
      "source": [
        "2.\n",
        "![Screenshot 2022-12-06 233720.png](data:image/png;base64,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)\n",
        "\n",
        "![Screenshot 2022-12-06 233636.png](data:image/png;base64,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)"
      ],
      "metadata": {
        "id": "M43QSVUto0nZ"
      }
    },
    {
      "cell_type": "code",
      "source": [
        "import numpy as np\n",
        "A = np.array([[2,-1,3],[4,-2,1],[2,1,0]])\n",
        "from numpy.linalg import matrix_rank\n",
        "c=matrix_rank(A)\n",
        "print(\"The rank of the matrix is {}\" .format(c))\n",
        "from sympy import *\n",
        "M = Matrix([[2,-1,3],[4,-2,1],[2,1,0]])\n",
        "M_columnspace = M.columnspace()\n",
        "M_nullspace = M.nullspace()\n",
        "print(\"The dimension of null space is {}\" .format(len(M_nullspace)))\n",
        "print(\"The dimension of column space is {}\" .format(len(M_columnspace)))\n",
        "d=len(M_columnspace)-c\n",
        "print(\"The number of baic variables is {}\" .format(len(M_columnspace)))\n",
        "print(\"The number of free variables is {}\" .format(d))"
      ],
      "metadata": {
        "colab": {
          "base_uri": "https://localhost:8080/"
        },
        "id": "PiMmTRZsoXye",
        "outputId": "e00360d5-ed5e-4df5-ce1d-2403d8eff655"
      },
      "execution_count": null,
      "outputs": [
        {
          "output_type": "stream",
          "name": "stdout",
          "text": [
            "The rank of the matrix is 3\n",
            "The dimension of null space is 0\n",
            "The dimension of column space is 3\n",
            "The number of baic variables is 3\n",
            "The number of free variables is 0\n"
          ]
        }
      ]
    }
  ]
}